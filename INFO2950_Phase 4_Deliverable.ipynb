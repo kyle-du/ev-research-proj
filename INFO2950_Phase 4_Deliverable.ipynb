{
 "cells": [
  {
   "cell_type": "markdown",
   "id": "3b1d681a-82e5-4cbc-ae95-ba4bf2d30f84",
   "metadata": {},
   "source": [
    "# INFO 2950 Final Project"
   ]
  },
  {
   "cell_type": "markdown",
   "id": "c4e6bdfc-8f62-4f73-a4b2-b97e4e128af5",
   "metadata": {},
   "source": [
    "## Introduction:"
   ]
  },
  {
   "cell_type": "code",
   "execution_count": null,
   "id": "2347f82e-430f-4e7b-8301-13beec2926d5",
   "metadata": {},
   "outputs": [],
   "source": []
  },
  {
   "cell_type": "markdown",
   "id": "58670269-394f-4788-a23a-cee45528ce74",
   "metadata": {},
   "source": [
    "## Data Description and Cleaning:"
   ]
  },
  {
   "cell_type": "code",
   "execution_count": null,
   "id": "630c8c9b-c58e-4470-bc17-39e1990dd12f",
   "metadata": {},
   "outputs": [],
   "source": []
  },
  {
   "cell_type": "markdown",
   "id": "95cb3cf7-09fe-4117-b334-0c1c35c2e443",
   "metadata": {},
   "source": [
    "## Preregistration Statement: "
   ]
  },
  {
   "cell_type": "markdown",
   "id": "1e1ede00-2588-4c29-a3e2-551beae10be7",
   "metadata": {},
   "source": [
    "### Preregistration Statement 1\n",
    "\n",
    "- **Hypothesis**:  \n",
    "  State-level electric vehicle (EV) registrations increase with the total number of federal incentives available.\n",
    "\n",
    "- **Context**:  \n",
    "  Federal incentives, such as tax credits and subsidies, are designed to reduce the upfront cost of EVs, making them more accessible to consumers. Studies have shown that these incentives significantly influence consumer purchasing decisions, leading to higher EV adoption rates. For instance, research indicates that federal tax credits have been a major driver in the growth of the EV market in the United States [1].\n",
    "\n",
    "- **Analysis**:  \n",
    "  To test this hypothesis, we will run a linear regression per state with the total count of federal EV incentives as the independent variable and the total EV registrations in the state as the dependent variable. We will test whether βfederal_incentives > 0 for each model, which would indicate that an increase in total federal incentives is associated with increased total EV registrations at the state level.  \n",
    "---\n",
    "\n",
    "### Preregistration Statement 2\n",
    "\n",
    "- **Hypothesis**:  \n",
    "  State-level EV registrations increase with the state's renewable energy production.\n",
    "\n",
    "- **Context**:  \n",
    "  States that produce more renewable energy may foster a culture of environmental consciousness, leading to higher EV adoption rates. Additionally, consumers in these states might prefer EVs to align with the clean energy available, reducing the overall carbon footprint of their transportation. Research has shown a correlation between renewable energy policies and increased EV adoption, suggesting that the availability of clean energy sources can influence consumer behavior [2].\n",
    "\n",
    "- **Analysis**:  \n",
    "  For this hypothesis, we will run a linear regression per state with the renewable energy production of the state as the independent variable and the total EV registrations in the state as the dependent variable. We will test whether βrenewable_energy > 0 for each model, which would indicate that an increase in a state’s renewable energy production is associated with increased total EV registrations of the state.  \n",
    "\n",
    "---\n",
    "\n",
    "These analyses aim to elucidate the impact of federal incentives and renewable energy production on EV adoption at the state level, providing insights for policymakers to design effective strategies to promote sustainable transportation.\n",
    "\n",
    "---\n",
    "\n",
    "### Citations\n",
    "\n",
    "1. Javadnejad et al. (2023). *Federal tax credits and EV adoption*. [https://link.springer.com/article/10.1007/s10669-023-09958-3](https://link.springer.com/article/10.1007/s10669-023-09958-3)  \n",
    "2. Pabitra Kumar Das & Mohammad Younus Bhat. (2021). *Renewable energy policies and EV adoption*. [https://link.springer.com/article/10.1007/s11356-021-18211-w](https://link.springer.com/article/10.1007/s11356-021-18211-w)\n"
   ]
  },
  {
   "cell_type": "markdown",
   "id": "a6cdced9-fe7f-4c30-8e12-ce0e070b3018",
   "metadata": {},
   "source": [
    "## Data Analysis: "
   ]
  },
  {
   "cell_type": "code",
   "execution_count": null,
   "id": "273af45c-558e-47a9-8496-4cb9eb2621e2",
   "metadata": {},
   "outputs": [],
   "source": []
  },
  {
   "cell_type": "markdown",
   "id": "b26dd4cd-7b30-4064-ba4d-db588474037b",
   "metadata": {},
   "source": [
    "## Evaluation of Significance: "
   ]
  },
  {
   "cell_type": "code",
   "execution_count": null,
   "id": "20f0333b-8faa-4805-ae62-4d9f0ada4ddb",
   "metadata": {},
   "outputs": [],
   "source": []
  },
  {
   "cell_type": "markdown",
   "id": "8a5bfc80-9799-468a-a38d-823d5cfe648e",
   "metadata": {},
   "source": [
    "## Conclusions: "
   ]
  },
  {
   "cell_type": "code",
   "execution_count": null,
   "id": "3ffaa7ea-737e-4277-a244-e6abd22d1d9b",
   "metadata": {},
   "outputs": [],
   "source": []
  },
  {
   "cell_type": "markdown",
   "id": "584d6ccb-fd07-4375-8f0c-010b15aefe55",
   "metadata": {},
   "source": [
    "## Limitations: "
   ]
  },
  {
   "cell_type": "code",
   "execution_count": null,
   "id": "6899541d-2e28-442b-b0d4-0412c6f829fb",
   "metadata": {},
   "outputs": [],
   "source": []
  },
  {
   "cell_type": "markdown",
   "id": "5036cd31-9b40-4510-b960-b535205bed83",
   "metadata": {},
   "source": [
    "## Acknowledgements and Bibliography: "
   ]
  },
  {
   "cell_type": "code",
   "execution_count": null,
   "id": "6b287708-7801-4897-b2ba-73e43e3e4a93",
   "metadata": {},
   "outputs": [],
   "source": []
  }
 ],
 "metadata": {
  "kernelspec": {
   "display_name": "Python 3 (ipykernel)",
   "language": "python",
   "name": "python3"
  },
  "language_info": {
   "codemirror_mode": {
    "name": "ipython",
    "version": 3
   },
   "file_extension": ".py",
   "mimetype": "text/x-python",
   "name": "python",
   "nbconvert_exporter": "python",
   "pygments_lexer": "ipython3",
   "version": "3.12.2"
  }
 },
 "nbformat": 4,
 "nbformat_minor": 5
}
