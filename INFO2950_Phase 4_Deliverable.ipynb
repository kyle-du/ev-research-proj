{
 "cells": [
  {
   "cell_type": "markdown",
   "id": "3b1d681a-82e5-4cbc-ae95-ba4bf2d30f84",
   "metadata": {},
   "source": [
    "# INFO 2950 Final Project"
   ]
  },
  {
   "cell_type": "code",
   "execution_count": 1,
   "id": "1767475a-575b-4560-acca-5a9f091f26a5",
   "metadata": {},
   "outputs": [
    {
     "name": "stdout",
     "output_type": "stream",
     "text": [
      "Requirement already satisfied: linearmodels in /Users/jamiejeong/opt/anaconda3/envs/info2950/lib/python3.12/site-packages (6.1)\n",
      "Requirement already satisfied: numpy<3,>=1.22.3 in /Users/jamiejeong/opt/anaconda3/envs/info2950/lib/python3.12/site-packages (from linearmodels) (1.26.4)\n",
      "Requirement already satisfied: pandas>=1.4.0 in /Users/jamiejeong/opt/anaconda3/envs/info2950/lib/python3.12/site-packages (from linearmodels) (2.2.2)\n",
      "Requirement already satisfied: scipy>=1.8.0 in /Users/jamiejeong/opt/anaconda3/envs/info2950/lib/python3.12/site-packages (from linearmodels) (1.13.1)\n",
      "Requirement already satisfied: statsmodels>=0.13.0 in /Users/jamiejeong/opt/anaconda3/envs/info2950/lib/python3.12/site-packages (from linearmodels) (0.14.2)\n",
      "Requirement already satisfied: mypy-extensions>=0.4 in /Users/jamiejeong/opt/anaconda3/envs/info2950/lib/python3.12/site-packages (from linearmodels) (1.0.0)\n",
      "Requirement already satisfied: Cython>=3.0.10 in /Users/jamiejeong/opt/anaconda3/envs/info2950/lib/python3.12/site-packages (from linearmodels) (3.0.11)\n",
      "Requirement already satisfied: pyhdfe>=0.1 in /Users/jamiejeong/opt/anaconda3/envs/info2950/lib/python3.12/site-packages (from linearmodels) (0.2.0)\n",
      "Requirement already satisfied: formulaic>=1.0.0 in /Users/jamiejeong/opt/anaconda3/envs/info2950/lib/python3.12/site-packages (from linearmodels) (1.0.2)\n",
      "Requirement already satisfied: setuptools-scm<9.0.0,>=8.0.0 in /Users/jamiejeong/opt/anaconda3/envs/info2950/lib/python3.12/site-packages (from setuptools-scm[toml]<9.0.0,>=8.0.0->linearmodels) (8.1.0)\n",
      "Requirement already satisfied: interface-meta>=1.2.0 in /Users/jamiejeong/opt/anaconda3/envs/info2950/lib/python3.12/site-packages (from formulaic>=1.0.0->linearmodels) (1.3.0)\n",
      "Requirement already satisfied: typing-extensions>=4.2.0 in /Users/jamiejeong/opt/anaconda3/envs/info2950/lib/python3.12/site-packages (from formulaic>=1.0.0->linearmodels) (4.11.0)\n",
      "Requirement already satisfied: wrapt>=1.0 in /Users/jamiejeong/opt/anaconda3/envs/info2950/lib/python3.12/site-packages (from formulaic>=1.0.0->linearmodels) (1.16.0)\n",
      "Requirement already satisfied: python-dateutil>=2.8.2 in /Users/jamiejeong/opt/anaconda3/envs/info2950/lib/python3.12/site-packages (from pandas>=1.4.0->linearmodels) (2.9.0.post0)\n",
      "Requirement already satisfied: pytz>=2020.1 in /Users/jamiejeong/opt/anaconda3/envs/info2950/lib/python3.12/site-packages (from pandas>=1.4.0->linearmodels) (2024.1)\n",
      "Requirement already satisfied: tzdata>=2022.7 in /Users/jamiejeong/opt/anaconda3/envs/info2950/lib/python3.12/site-packages (from pandas>=1.4.0->linearmodels) (2023.3)\n",
      "Requirement already satisfied: packaging>=20 in /Users/jamiejeong/opt/anaconda3/envs/info2950/lib/python3.12/site-packages (from setuptools-scm<9.0.0,>=8.0.0->setuptools-scm[toml]<9.0.0,>=8.0.0->linearmodels) (24.1)\n",
      "Requirement already satisfied: setuptools in /Users/jamiejeong/opt/anaconda3/envs/info2950/lib/python3.12/site-packages (from setuptools-scm<9.0.0,>=8.0.0->setuptools-scm[toml]<9.0.0,>=8.0.0->linearmodels) (72.1.0)\n",
      "Requirement already satisfied: patsy>=0.5.6 in /Users/jamiejeong/opt/anaconda3/envs/info2950/lib/python3.12/site-packages (from statsmodels>=0.13.0->linearmodels) (0.5.6)\n",
      "Requirement already satisfied: six in /Users/jamiejeong/opt/anaconda3/envs/info2950/lib/python3.12/site-packages (from patsy>=0.5.6->statsmodels>=0.13.0->linearmodels) (1.16.0)\n",
      "Note: you may need to restart the kernel to use updated packages.\n"
     ]
    }
   ],
   "source": [
    "pip install linearmodels"
   ]
  },
  {
   "cell_type": "code",
   "execution_count": 2,
   "id": "0bec61c3-6005-4044-8bea-192ee6551508",
   "metadata": {},
   "outputs": [],
   "source": [
    "#Imports\n",
    "import numpy as np \n",
    "import pandas as pd \n",
    "import seaborn as sns \n",
    "import matplotlib.pyplot as plt \n",
    "import requests\n",
    "from bs4 import BeautifulSoup\n",
    "import os\n",
    "import re\n",
    "import pdfplumber\n",
    "import duckdb\n",
    "import statsmodels.api as sm\n",
    "from io import BytesIO\n",
    "from linearmodels.panel import PanelOLS"
   ]
  },
  {
   "cell_type": "markdown",
   "id": "c4e6bdfc-8f62-4f73-a4b2-b97e4e128af5",
   "metadata": {},
   "source": [
    "## Introduction:"
   ]
  },
  {
   "cell_type": "markdown",
   "id": "83ba4c48-0f3d-4037-98ec-6ff4f3a3cbcf",
   "metadata": {},
   "source": [
    "The rapid adoption of electric vehicles (EVs) is pivotal in reducing greenhouse gas emissions and transitioning towards sustainable transportation. As the U.S. pushes towards a greener future, understanding what drives EV adoption is becoming increasingly important. Research shows that federal incentives like tax credits have historically played a critical role in encouraging EV adoption (U.S. DOE, 2023), while renewable energy availability has been linked to infrastructure expansion and greater adoption rates (Energy Information Administration, 2022). This project seeks to explore key determinants of state-level EV registrations, including federal incentives, renewable energy production, EV pricing, and charging infrastructure availability, to build predictive models for EV registration growth.\n",
    "\n",
    "Our primary research question is: ***What factors reliably predict EV registration growth across U.S. states, and how do these vary by region?*** To address this question, we hypothesize that (1) EV registrations increase with the total number of federal incentives and (2) EV registrations are positively correlated with a state's renewable energy production. Both hypotheses are tested using state-level data over multiple years, employing linear regression models to evaluate the impact of these variables on EV adoption trends.\n",
    "\n",
    "To make this analysis focused and actionable, we narrowed the scope of our project to five states: **California, Florida, Texas, Washington, and New Jersey**. These states were selected because they lead the nation in both EV registrations and growth from 2016 to 2023. By studying these key states, we aim to identify patterns and strategies that could potentially be scaled to other regions in the future.\n",
    "\n",
    "The data for this analysis is drawn from publicly available sources, including the U.S. Department of Energy's Alternative Fuels Data Center, the Energy Information Administration, U.S. Census Bureau, and Open Charge Map. The dataset includes national-level variables (e.g., federal EV incentives, EV pricing) and state-level variables (e.g., charging station availability, renewable energy production). To ensure fair comparisons, we calculated EV registrations per capita, which accounts for population differences across states.\n",
    "\n",
    "Preliminary trends suggest that []. By identifying the influential factors driving this growth, our predictive model aims to guide policymakers and stakeholders in designing effective strategies to accelerate EV adoption. This work not only sheds light on current trends but also provides actionable insights to support smarter policies, targeted infrastructure investments, and a smoother transition to a cleaner, more sustainable transportation future."
   ]
  },
  {
   "cell_type": "markdown",
   "id": "58670269-394f-4788-a23a-cee45528ce74",
   "metadata": {},
   "source": [
    "## Data Description and Cleaning:"
   ]
  },
  {
   "cell_type": "code",
   "execution_count": 6,
   "id": "630c8c9b-c58e-4470-bc17-39e1990dd12f",
   "metadata": {},
   "outputs": [
    {
     "data": {
      "text/html": [
       "<div>\n",
       "<style scoped>\n",
       "    .dataframe tbody tr th:only-of-type {\n",
       "        vertical-align: middle;\n",
       "    }\n",
       "\n",
       "    .dataframe tbody tr th {\n",
       "        vertical-align: top;\n",
       "    }\n",
       "\n",
       "    .dataframe thead th {\n",
       "        text-align: right;\n",
       "    }\n",
       "</style>\n",
       "<table border=\"1\" class=\"dataframe\">\n",
       "  <thead>\n",
       "    <tr style=\"text-align: right;\">\n",
       "      <th></th>\n",
       "      <th>year</th>\n",
       "      <th>state</th>\n",
       "      <th>registration</th>\n",
       "      <th>population</th>\n",
       "      <th>reg_per_capita</th>\n",
       "      <th>affordability</th>\n",
       "      <th>incentives</th>\n",
       "      <th>renewable_prod</th>\n",
       "      <th>charge_stations</th>\n",
       "      <th>charge_per_capita</th>\n",
       "    </tr>\n",
       "  </thead>\n",
       "  <tbody>\n",
       "    <tr>\n",
       "      <th>0</th>\n",
       "      <td>2016</td>\n",
       "      <td>California</td>\n",
       "      <td>141500.0</td>\n",
       "      <td>39167117</td>\n",
       "      <td>0.003613</td>\n",
       "      <td>22995.0</td>\n",
       "      <td>20</td>\n",
       "      <td>527.599976</td>\n",
       "      <td>1413</td>\n",
       "      <td>0.000036</td>\n",
       "    </tr>\n",
       "    <tr>\n",
       "      <th>1</th>\n",
       "      <td>2016</td>\n",
       "      <td>Florida</td>\n",
       "      <td>11600.0</td>\n",
       "      <td>20613477</td>\n",
       "      <td>0.000563</td>\n",
       "      <td>22995.0</td>\n",
       "      <td>20</td>\n",
       "      <td>480.700012</td>\n",
       "      <td>381</td>\n",
       "      <td>0.000018</td>\n",
       "    </tr>\n",
       "    <tr>\n",
       "      <th>2</th>\n",
       "      <td>2016</td>\n",
       "      <td>New Jersey</td>\n",
       "      <td>4200.0</td>\n",
       "      <td>8870827</td>\n",
       "      <td>0.000473</td>\n",
       "      <td>22995.0</td>\n",
       "      <td>20</td>\n",
       "      <td>334.600006</td>\n",
       "      <td>127</td>\n",
       "      <td>0.000014</td>\n",
       "    </tr>\n",
       "    <tr>\n",
       "      <th>3</th>\n",
       "      <td>2016</td>\n",
       "      <td>Texas</td>\n",
       "      <td>11900.0</td>\n",
       "      <td>27914410</td>\n",
       "      <td>0.000426</td>\n",
       "      <td>22995.0</td>\n",
       "      <td>20</td>\n",
       "      <td>427.399994</td>\n",
       "      <td>334</td>\n",
       "      <td>0.000012</td>\n",
       "    </tr>\n",
       "    <tr>\n",
       "      <th>4</th>\n",
       "      <td>2016</td>\n",
       "      <td>Washington</td>\n",
       "      <td>14900.0</td>\n",
       "      <td>7294771</td>\n",
       "      <td>0.002043</td>\n",
       "      <td>22995.0</td>\n",
       "      <td>20</td>\n",
       "      <td>175.299988</td>\n",
       "      <td>390</td>\n",
       "      <td>0.000053</td>\n",
       "    </tr>\n",
       "  </tbody>\n",
       "</table>\n",
       "</div>"
      ],
      "text/plain": [
       "   year       state  registration  population  reg_per_capita  affordability  \\\n",
       "0  2016  California      141500.0    39167117        0.003613        22995.0   \n",
       "1  2016     Florida       11600.0    20613477        0.000563        22995.0   \n",
       "2  2016  New Jersey        4200.0     8870827        0.000473        22995.0   \n",
       "3  2016       Texas       11900.0    27914410        0.000426        22995.0   \n",
       "4  2016  Washington       14900.0     7294771        0.002043        22995.0   \n",
       "\n",
       "   incentives  renewable_prod  charge_stations  charge_per_capita  \n",
       "0          20      527.599976             1413           0.000036  \n",
       "1          20      480.700012              381           0.000018  \n",
       "2          20      334.600006              127           0.000014  \n",
       "3          20      427.399994              334           0.000012  \n",
       "4          20      175.299988              390           0.000053  "
      ]
     },
     "metadata": {},
     "output_type": "display_data"
    },
    {
     "name": "stdout",
     "output_type": "stream",
     "text": [
      "year                 0\n",
      "state                0\n",
      "registration         0\n",
      "population           0\n",
      "reg_per_capita       0\n",
      "affordability        0\n",
      "incentives           0\n",
      "renewable_prod       5\n",
      "charge_stations      0\n",
      "charge_per_capita    0\n",
      "dtype: int64\n"
     ]
    }
   ],
   "source": [
    "# Clean, merged data file\n",
    "data = pd.read_csv('final_ev_dataset.csv')\n",
    "\n",
    "display(data.head(n=5))\n",
    "\n",
    "print(data.isnull().sum())"
   ]
  },
  {
   "cell_type": "markdown",
   "id": "95cb3cf7-09fe-4117-b334-0c1c35c2e443",
   "metadata": {},
   "source": [
    "## Preregistration Statement: "
   ]
  },
  {
   "cell_type": "markdown",
   "id": "1e1ede00-2588-4c29-a3e2-551beae10be7",
   "metadata": {},
   "source": [
    "### Preregistration Statement 1\n",
    "\n",
    "- **Hypothesis**:  \n",
    "  State-level electric vehicle (EV) registrations increase with the total number of federal incentives available.\n",
    "\n",
    "- **Context**:  \n",
    "  Federal incentives, such as tax credits and subsidies, are designed to reduce the upfront cost of EVs, making them more accessible to consumers. Studies have shown that these incentives significantly influence consumer purchasing decisions, leading to higher EV adoption rates. For instance, research indicates that federal tax credits have been a major driver in the growth of the EV market in the United States [1].\n",
    "\n",
    "- **Analysis**:  \n",
    "  To test this hypothesis, we will run a linear regression per state with the total count of federal EV incentives as the independent variable and the total EV registrations in the state as the dependent variable. We will test whether βfederal_incentives > 0 for each model, which would indicate that an increase in total federal incentives is associated with increased total EV registrations at the state level.  \n",
    "---\n",
    "\n",
    "### Preregistration Statement 2\n",
    "\n",
    "- **Hypothesis**:  \n",
    "  State-level EV registrations increase with the state's renewable energy production.\n",
    "\n",
    "- **Context**:  \n",
    "  States that produce more renewable energy may foster a culture of environmental consciousness, leading to higher EV adoption rates. Additionally, consumers in these states might prefer EVs to align with the clean energy available, reducing the overall carbon footprint of their transportation. Research has shown a correlation between renewable energy policies and increased EV adoption, suggesting that the availability of clean energy sources can influence consumer behavior [2].\n",
    "\n",
    "- **Analysis**:  \n",
    "  For this hypothesis, we will run a linear regression per state with the renewable energy production of the state as the independent variable and the total EV registrations in the state as the dependent variable. We will test whether βrenewable_energy > 0 for each model, which would indicate that an increase in a state’s renewable energy production is associated with increased total EV registrations of the state.  \n",
    "\n",
    "---\n",
    "\n",
    "These analyses aim to elucidate the impact of federal incentives and renewable energy production on EV adoption at the state level, providing insights for policymakers to design effective strategies to promote sustainable transportation.\n",
    "\n",
    "---\n",
    "\n",
    "### Citations\n",
    "\n",
    "1. Javadnejad et al. (2023). *Federal tax credits and EV adoption*. [https://link.springer.com/article/10.1007/s10669-023-09958-3](https://link.springer.com/article/10.1007/s10669-023-09958-3)  \n",
    "2. Pabitra Kumar Das & Mohammad Younus Bhat. (2021). *Renewable energy policies and EV adoption*. [https://link.springer.com/article/10.1007/s11356-021-18211-w](https://link.springer.com/article/10.1007/s11356-021-18211-w)\n"
   ]
  },
  {
   "cell_type": "markdown",
   "id": "a6cdced9-fe7f-4c30-8e12-ce0e070b3018",
   "metadata": {},
   "source": [
    "## Data Analysis: "
   ]
  },
  {
   "cell_type": "markdown",
   "id": "bb6b5cf9-6012-478b-a3a4-6b5dc0f17102",
   "metadata": {},
   "source": [
    "**Regression Model**"
   ]
  },
  {
   "cell_type": "code",
   "execution_count": 4,
   "id": "8aa81828-a12c-4bb5-8c7b-1a5c98a1fdf1",
   "metadata": {},
   "outputs": [
    {
     "name": "stdout",
     "output_type": "stream",
     "text": [
      "                          PanelOLS Estimation Summary                           \n",
      "================================================================================\n",
      "Dep. Variable:           registration   R-squared:                        0.7661\n",
      "Estimator:                   PanelOLS   R-squared (Between):              0.9064\n",
      "No. Observations:                  35   R-squared (Within):               0.7661\n",
      "Date:                Wed, Nov 20 2024   R-squared (Overall):              0.8524\n",
      "Time:                        20:54:37   Log-likelihood                   -431.73\n",
      "Cov. Estimator:            Unadjusted                                           \n",
      "                                        F-statistic:                      21.294\n",
      "Entities:                           5   P-value                           0.0000\n",
      "Avg Obs:                       7.0000   Distribution:                    F(4,26)\n",
      "Min Obs:                       7.0000                                           \n",
      "Max Obs:                       7.0000   F-statistic (robust):             21.294\n",
      "                                        P-value                           0.0000\n",
      "Time periods:                       7   Distribution:                    F(4,26)\n",
      "Avg Obs:                       5.0000                                           \n",
      "Min Obs:                       5.0000                                           \n",
      "Max Obs:                       5.0000                                           \n",
      "                                                                                \n",
      "                                Parameter Estimates                                \n",
      "===================================================================================\n",
      "                 Parameter  Std. Err.     T-stat    P-value    Lower CI    Upper CI\n",
      "-----------------------------------------------------------------------------------\n",
      "const              -6768.0  7.858e+04    -0.0861     0.9320  -1.683e+05   1.548e+05\n",
      "affordability      -4.8753     3.2879    -1.4828     0.1502     -11.634      1.8831\n",
      "incentives          5983.0     1435.0     4.1695     0.0003      3033.4      8932.6\n",
      "renewable_prod     -1.2522     3.9875    -0.3140     0.7560     -9.4486      6.9442\n",
      "charge_stations     73.006     12.181     5.9933     0.0000      47.967      98.045\n",
      "===================================================================================\n",
      "\n",
      "F-test for Poolability: 1.5489\n",
      "P-value: 0.2176\n",
      "Distribution: F(4,26)\n",
      "\n",
      "Included effects: Entity\n"
     ]
    },
    {
     "name": "stderr",
     "output_type": "stream",
     "text": [
      "/Users/jamiejeong/opt/anaconda3/envs/info2950/lib/python3.12/site-packages/linearmodels/panel/model.py:1260: MissingValueWarning: \n",
      "Inputs contain missing values. Dropping rows with missing observations.\n",
      "  super().__init__(dependent, exog, weights=weights, check_rank=check_rank)\n"
     ]
    }
   ],
   "source": [
    "data = data.set_index(['state', 'year'])\n",
    "\n",
    "input_var = ['affordability', 'incentives', 'renewable_prod', 'charge_stations']\n",
    "X = data[input_var]\n",
    "X = sm.add_constant(X)\n",
    "y = data['registration']\n",
    "\n",
    "# Fit PanelOLS with fixed effects\n",
    "model = PanelOLS(y, X, entity_effects=True).fit()\n",
    "print(model.summary)"
   ]
  },
  {
   "cell_type": "code",
   "execution_count": 5,
   "id": "aaeb28b1-1d30-4909-8048-ffdc76a15e17",
   "metadata": {},
   "outputs": [
    {
     "name": "stdout",
     "output_type": "stream",
     "text": [
      "                          PanelOLS Estimation Summary                           \n",
      "================================================================================\n",
      "Dep. Variable:         reg_per_capita   R-squared:                        0.9022\n",
      "Estimator:                   PanelOLS   R-squared (Between):              0.7410\n",
      "No. Observations:                  35   R-squared (Within):               0.9022\n",
      "Date:                Wed, Nov 20 2024   R-squared (Overall):              0.8352\n",
      "Time:                        20:56:53   Log-likelihood                    187.21\n",
      "Cov. Estimator:            Unadjusted                                           \n",
      "                                        F-statistic:                      59.992\n",
      "Entities:                           5   P-value                           0.0000\n",
      "Avg Obs:                       7.0000   Distribution:                    F(4,26)\n",
      "Min Obs:                       7.0000                                           \n",
      "Max Obs:                       7.0000   F-statistic (robust):             59.992\n",
      "                                        P-value                           0.0000\n",
      "Time periods:                       7   Distribution:                    F(4,26)\n",
      "Avg Obs:                       5.0000                                           \n",
      "Min Obs:                       5.0000                                           \n",
      "Max Obs:                       5.0000                                           \n",
      "                                                                                \n",
      "                                 Parameter Estimates                                 \n",
      "=====================================================================================\n",
      "                   Parameter  Std. Err.     T-stat    P-value    Lower CI    Upper CI\n",
      "-------------------------------------------------------------------------------------\n",
      "const                -0.0022     0.0017    -1.2737     0.2141     -0.0056      0.0013\n",
      "affordability     -1.368e-07  7.398e-08    -1.8489     0.0759  -2.889e-07   1.529e-08\n",
      "incentives            0.0003  3.075e-05     9.0244     0.0000      0.0002      0.0003\n",
      "renewable_prod    -1.194e-07   8.34e-08    -1.4313     0.1643  -2.908e-07   5.206e-08\n",
      "charge_per_capita     58.547     9.4331     6.2065     0.0000      39.157      77.937\n",
      "=====================================================================================\n",
      "\n",
      "F-test for Poolability: 10.128\n",
      "P-value: 0.0000\n",
      "Distribution: F(4,26)\n",
      "\n",
      "Included effects: Entity\n"
     ]
    },
    {
     "name": "stderr",
     "output_type": "stream",
     "text": [
      "/Users/jamiejeong/opt/anaconda3/envs/info2950/lib/python3.12/site-packages/linearmodels/panel/model.py:1260: MissingValueWarning: \n",
      "Inputs contain missing values. Dropping rows with missing observations.\n",
      "  super().__init__(dependent, exog, weights=weights, check_rank=check_rank)\n"
     ]
    }
   ],
   "source": [
    "# Charge stations per capita\n",
    "input_var = ['affordability', 'incentives', 'renewable_prod', 'charge_per_capita']\n",
    "X = data[input_var]\n",
    "X = sm.add_constant(X)\n",
    "\n",
    "# Per Capita\n",
    "y = data['reg_per_capita']\n",
    "\n",
    "# Fit PanelOLS with fixed effects\n",
    "model = PanelOLS(y, X, entity_effects=True).fit()\n",
    "print(model.summary)"
   ]
  },
  {
   "cell_type": "markdown",
   "id": "b26dd4cd-7b30-4064-ba4d-db588474037b",
   "metadata": {},
   "source": [
    "## Evaluation of Significance: "
   ]
  },
  {
   "cell_type": "code",
   "execution_count": null,
   "id": "20f0333b-8faa-4805-ae62-4d9f0ada4ddb",
   "metadata": {},
   "outputs": [],
   "source": []
  },
  {
   "cell_type": "markdown",
   "id": "8a5bfc80-9799-468a-a38d-823d5cfe648e",
   "metadata": {},
   "source": [
    "## Conclusions: "
   ]
  },
  {
   "cell_type": "code",
   "execution_count": null,
   "id": "3ffaa7ea-737e-4277-a244-e6abd22d1d9b",
   "metadata": {},
   "outputs": [],
   "source": []
  },
  {
   "cell_type": "markdown",
   "id": "584d6ccb-fd07-4375-8f0c-010b15aefe55",
   "metadata": {},
   "source": [
    "## Limitations: "
   ]
  },
  {
   "cell_type": "code",
   "execution_count": null,
   "id": "6899541d-2e28-442b-b0d4-0412c6f829fb",
   "metadata": {},
   "outputs": [],
   "source": []
  },
  {
   "cell_type": "markdown",
   "id": "5036cd31-9b40-4510-b960-b535205bed83",
   "metadata": {},
   "source": [
    "## Acknowledgements and Bibliography: "
   ]
  },
  {
   "cell_type": "markdown",
   "id": "f85ee64a-792b-4f8f-b4e2-6381ba9b24ca",
   "metadata": {},
   "source": [
    "<p style=\"padding-left: 40px; text-indent: -40px;\">\n",
    "U.S. Census Bureau, Population Division. (2019). Annual Estimates of the Resident Population for the United States, Regions, States, and Puerto Rico: April 1, 2010 to July 1, 2019 (NST-EST2019-01) [Data file]. Retrieved from https://www2.census.gov/programs-surveys/popest/tables/2010-2019/state/totals/nst-est2019-01.xlsx\n",
    "</p>\n",
    "\n",
    "<p style=\"padding-left: 40px; text-indent: -40px;\">\n",
    "U.S. Census Bureau, Population Division. (2023). Annual Estimates of the Resident Population for the United States, Regions, States, District of Columbia, and Puerto Rico: April 1, 2020 to July 1, 2023 (NST-EST2023-POP) [Data file]. Retrieved from https://www2.census.gov/programs-surveys/popest/tables/2020-2023/state/totals/NST-EST2023-POP.xlsx\n",
    "</p>\n",
    "\n",
    "\n",
    "<p style=\"padding-left: 40px; text-indent: -40px;\">\n",
    "U.S. Department of Energy. (2023). Alternative Fuels Data Center: Vehicle Registration Data. Retrieved from https://afdc.energy.gov/vehicle-registration?year=2023\n",
    "</p>\n",
    "\n",
    "<p style=\"padding-left: 40px; text-indent: -40px;\">\n",
    "U.S. Energy Information Administration. (n.d.). State Energy Data System (SEDS): 1960-2021 (Complete) [Data file]. Retrieved from https://www.eia.gov/state/seds/sep_prod/SEDS_Production_Report.pdf\n",
    "</p>\n",
    "\n",
    "<p style=\"padding-left: 40px; text-indent: -40px;\">\n",
    "U.S. Department of Energy. (n.d.). Find and Compare Cars. Retrieved from https://www.fueleconomy.gov/feg/PowerSearch.do?action=noform&year1=2016&year2=2023&minmsrpsel=0&maxmsrpsel=0&city=0&hwy=0&comb=0&cbvtelectric=Electric&YearSel=2016-2023&make=&mclass=&vfuel=&vtype=Electric&trany=&drive=&cyl=&MpgSel=000&sortBy=Comb&Units=&url=SearchServlet&opt=new&minmsrp=0&maxmsrp=0&minmpg=0&maxmpg=0&sCharge=&tCharge=&startstop=&cylDeact=&rowLimit=200&pageno=1&tabView=0\n",
    "</p>\n",
    "\n",
    "<p style=\"padding-left: 40px; text-indent: -40px;\">\n",
    "Open Charge Map. (2024). Open Charge Map API. Retrieved November 20, 2024, from https://openchargemap.org/site/develop/api\n",
    "</p>\n",
    "\n",
    "<p style=\"padding-left: 40px; text-indent: -40px;\">\n",
    "U.S. Department of Energy, Office of Energy Efficiency & Renewable Energy. (2024). Alternative Fuels Data Center: Data Download [Data file]. Retrieved November 20, 2024, from https://afdc.energy.gov/data_download\n",
    "</p>\n",
    "\n",
    "<p style=\"padding-left: 40px; text-indent: -40px;\">\n",
    "Javadnejad et al. (2023). Federal tax credits and EV adoption. https://link.springer.com/article/10.1007/s10669-023-09958-3\n",
    "</p>\n",
    "\n",
    "<p style=\"padding-left: 40px; text-indent: -40px;\">\n",
    "Pabitra Kumar Das & Mohammad Younus Bhat. (2021). Renewable energy policies and EV adoption. https://link.springer.com/article/10.1007/s11356-021-18211-w  \n",
    "</p>"
   ]
  }
 ],
 "metadata": {
  "kernelspec": {
   "display_name": "Python 3 (ipykernel)",
   "language": "python",
   "name": "python3"
  },
  "language_info": {
   "codemirror_mode": {
    "name": "ipython",
    "version": 3
   },
   "file_extension": ".py",
   "mimetype": "text/x-python",
   "name": "python",
   "nbconvert_exporter": "python",
   "pygments_lexer": "ipython3",
   "version": "3.12.2"
  }
 },
 "nbformat": 4,
 "nbformat_minor": 5
}
