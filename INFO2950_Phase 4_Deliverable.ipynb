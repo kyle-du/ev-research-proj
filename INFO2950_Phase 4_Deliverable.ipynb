{
 "cells": [
  {
   "cell_type": "markdown",
   "id": "3b1d681a-82e5-4cbc-ae95-ba4bf2d30f84",
   "metadata": {},
   "source": [
    "# INFO 2950 Final Project"
   ]
  },
  {
   "cell_type": "markdown",
   "id": "c4e6bdfc-8f62-4f73-a4b2-b97e4e128af5",
   "metadata": {},
   "source": [
    "## Introduction:"
   ]
  },
  {
   "cell_type": "code",
   "execution_count": null,
   "id": "2347f82e-430f-4e7b-8301-13beec2926d5",
   "metadata": {},
   "outputs": [],
   "source": []
  },
  {
   "cell_type": "markdown",
   "id": "58670269-394f-4788-a23a-cee45528ce74",
   "metadata": {},
   "source": [
    "## Data Description and Cleaning:"
   ]
  },
  {
   "cell_type": "code",
   "execution_count": null,
   "id": "630c8c9b-c58e-4470-bc17-39e1990dd12f",
   "metadata": {},
   "outputs": [],
   "source": []
  },
  {
   "cell_type": "markdown",
   "id": "95cb3cf7-09fe-4117-b334-0c1c35c2e443",
   "metadata": {},
   "source": [
    "## Preregistration Statement: "
   ]
  },
  {
   "cell_type": "code",
   "execution_count": null,
   "id": "aebdd897-7792-4c4e-95e5-bbf44bdf6e51",
   "metadata": {},
   "outputs": [],
   "source": []
  },
  {
   "cell_type": "markdown",
   "id": "a6cdced9-fe7f-4c30-8e12-ce0e070b3018",
   "metadata": {},
   "source": [
    "## Data Analysis: "
   ]
  },
  {
   "cell_type": "code",
   "execution_count": null,
   "id": "273af45c-558e-47a9-8496-4cb9eb2621e2",
   "metadata": {},
   "outputs": [],
   "source": []
  },
  {
   "cell_type": "markdown",
   "id": "b26dd4cd-7b30-4064-ba4d-db588474037b",
   "metadata": {},
   "source": [
    "## Evaluation of Significance: "
   ]
  },
  {
   "cell_type": "code",
   "execution_count": null,
   "id": "20f0333b-8faa-4805-ae62-4d9f0ada4ddb",
   "metadata": {},
   "outputs": [],
   "source": []
  },
  {
   "cell_type": "markdown",
   "id": "8a5bfc80-9799-468a-a38d-823d5cfe648e",
   "metadata": {},
   "source": [
    "## Conclusions: "
   ]
  },
  {
   "cell_type": "code",
   "execution_count": null,
   "id": "3ffaa7ea-737e-4277-a244-e6abd22d1d9b",
   "metadata": {},
   "outputs": [],
   "source": []
  },
  {
   "cell_type": "markdown",
   "id": "584d6ccb-fd07-4375-8f0c-010b15aefe55",
   "metadata": {},
   "source": [
    "## Limitations: "
   ]
  },
  {
   "cell_type": "code",
   "execution_count": null,
   "id": "6899541d-2e28-442b-b0d4-0412c6f829fb",
   "metadata": {},
   "outputs": [],
   "source": []
  },
  {
   "cell_type": "markdown",
   "id": "5036cd31-9b40-4510-b960-b535205bed83",
   "metadata": {},
   "source": [
    "## Acknowledgements and Bibliography: "
   ]
  },
  {
   "cell_type": "code",
   "execution_count": null,
   "id": "6b287708-7801-4897-b2ba-73e43e3e4a93",
   "metadata": {},
   "outputs": [],
   "source": []
  }
 ],
 "metadata": {
  "kernelspec": {
   "display_name": "Python 3 (ipykernel)",
   "language": "python",
   "name": "python3"
  },
  "language_info": {
   "codemirror_mode": {
    "name": "ipython",
    "version": 3
   },
   "file_extension": ".py",
   "mimetype": "text/x-python",
   "name": "python",
   "nbconvert_exporter": "python",
   "pygments_lexer": "ipython3",
   "version": "3.12.2"
  }
 },
 "nbformat": 4,
 "nbformat_minor": 5
}
