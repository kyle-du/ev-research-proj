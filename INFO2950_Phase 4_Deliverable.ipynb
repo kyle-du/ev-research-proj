{
 "cells": [
  {
   "cell_type": "markdown",
   "id": "3b1d681a-82e5-4cbc-ae95-ba4bf2d30f84",
   "metadata": {},
   "source": [
    "# INFO 2950 Final Project"
   ]
  },
  {
   "cell_type": "code",
   "execution_count": 1,
   "id": "1767475a-575b-4560-acca-5a9f091f26a5",
   "metadata": {},
   "outputs": [],
   "source": [
    "# pip install linearmodels"
   ]
  },
  {
   "cell_type": "code",
   "execution_count": 2,
   "id": "0bec61c3-6005-4044-8bea-192ee6551508",
   "metadata": {},
   "outputs": [],
   "source": [
    "#Imports\n",
    "import numpy as np \n",
    "import pandas as pd \n",
    "import seaborn as sns \n",
    "import matplotlib.pyplot as plt \n",
    "import requests\n",
    "from bs4 import BeautifulSoup\n",
    "import os\n",
    "import re\n",
    "import pdfplumber\n",
    "import duckdb\n",
    "import statsmodels.api as sm\n",
    "from io import BytesIO\n",
    "from linearmodels.panel import PanelOLS"
   ]
  },
  {
   "cell_type": "markdown",
   "id": "c4e6bdfc-8f62-4f73-a4b2-b97e4e128af5",
   "metadata": {},
   "source": [
    "## Introduction:"
   ]
  },
  {
   "cell_type": "code",
   "execution_count": null,
   "id": "2347f82e-430f-4e7b-8301-13beec2926d5",
   "metadata": {},
   "outputs": [],
   "source": []
  },
  {
   "cell_type": "markdown",
   "id": "58670269-394f-4788-a23a-cee45528ce74",
   "metadata": {},
   "source": [
    "## Data Description and Cleaning:"
   ]
  },
  {
   "cell_type": "code",
   "execution_count": 7,
   "id": "630c8c9b-c58e-4470-bc17-39e1990dd12f",
   "metadata": {},
   "outputs": [
    {
     "data": {
      "text/html": [
       "<div>\n",
       "<style scoped>\n",
       "    .dataframe tbody tr th:only-of-type {\n",
       "        vertical-align: middle;\n",
       "    }\n",
       "\n",
       "    .dataframe tbody tr th {\n",
       "        vertical-align: top;\n",
       "    }\n",
       "\n",
       "    .dataframe thead th {\n",
       "        text-align: right;\n",
       "    }\n",
       "</style>\n",
       "<table border=\"1\" class=\"dataframe\">\n",
       "  <thead>\n",
       "    <tr style=\"text-align: right;\">\n",
       "      <th></th>\n",
       "      <th>year</th>\n",
       "      <th>state</th>\n",
       "      <th>registration</th>\n",
       "      <th>population</th>\n",
       "      <th>reg_per_capita</th>\n",
       "      <th>min_price</th>\n",
       "      <th>incentives</th>\n",
       "      <th>renewable_prod</th>\n",
       "      <th>charge_stations</th>\n",
       "      <th>charge_per_capita</th>\n",
       "    </tr>\n",
       "  </thead>\n",
       "  <tbody>\n",
       "    <tr>\n",
       "      <th>0</th>\n",
       "      <td>2016</td>\n",
       "      <td>California</td>\n",
       "      <td>141500.0</td>\n",
       "      <td>39167117</td>\n",
       "      <td>0.003613</td>\n",
       "      <td>22995.0</td>\n",
       "      <td>20</td>\n",
       "      <td>527.599976</td>\n",
       "      <td>1413</td>\n",
       "      <td>3.607618</td>\n",
       "    </tr>\n",
       "    <tr>\n",
       "      <th>1</th>\n",
       "      <td>2016</td>\n",
       "      <td>Florida</td>\n",
       "      <td>11600.0</td>\n",
       "      <td>20613477</td>\n",
       "      <td>0.000563</td>\n",
       "      <td>22995.0</td>\n",
       "      <td>20</td>\n",
       "      <td>480.700012</td>\n",
       "      <td>381</td>\n",
       "      <td>1.848305</td>\n",
       "    </tr>\n",
       "    <tr>\n",
       "      <th>2</th>\n",
       "      <td>2016</td>\n",
       "      <td>New Jersey</td>\n",
       "      <td>4200.0</td>\n",
       "      <td>8870827</td>\n",
       "      <td>0.000473</td>\n",
       "      <td>22995.0</td>\n",
       "      <td>20</td>\n",
       "      <td>334.600006</td>\n",
       "      <td>127</td>\n",
       "      <td>1.431659</td>\n",
       "    </tr>\n",
       "    <tr>\n",
       "      <th>3</th>\n",
       "      <td>2016</td>\n",
       "      <td>Texas</td>\n",
       "      <td>11900.0</td>\n",
       "      <td>27914410</td>\n",
       "      <td>0.000426</td>\n",
       "      <td>22995.0</td>\n",
       "      <td>20</td>\n",
       "      <td>427.399994</td>\n",
       "      <td>334</td>\n",
       "      <td>1.196515</td>\n",
       "    </tr>\n",
       "    <tr>\n",
       "      <th>4</th>\n",
       "      <td>2016</td>\n",
       "      <td>Washington</td>\n",
       "      <td>14900.0</td>\n",
       "      <td>7294771</td>\n",
       "      <td>0.002043</td>\n",
       "      <td>22995.0</td>\n",
       "      <td>20</td>\n",
       "      <td>175.299988</td>\n",
       "      <td>390</td>\n",
       "      <td>5.346295</td>\n",
       "    </tr>\n",
       "  </tbody>\n",
       "</table>\n",
       "</div>"
      ],
      "text/plain": [
       "   year       state  registration  population  reg_per_capita  min_price  \\\n",
       "0  2016  California      141500.0    39167117        0.003613    22995.0   \n",
       "1  2016     Florida       11600.0    20613477        0.000563    22995.0   \n",
       "2  2016  New Jersey        4200.0     8870827        0.000473    22995.0   \n",
       "3  2016       Texas       11900.0    27914410        0.000426    22995.0   \n",
       "4  2016  Washington       14900.0     7294771        0.002043    22995.0   \n",
       "\n",
       "   incentives  renewable_prod  charge_stations  charge_per_capita  \n",
       "0          20      527.599976             1413           3.607618  \n",
       "1          20      480.700012              381           1.848305  \n",
       "2          20      334.600006              127           1.431659  \n",
       "3          20      427.399994              334           1.196515  \n",
       "4          20      175.299988              390           5.346295  "
      ]
     },
     "metadata": {},
     "output_type": "display_data"
    }
   ],
   "source": [
    "# This dataset was compiled and cleaned in our separate data cleaning notebook.\n",
    "# For full citations, please refer to INFO2950_Phase_4_Data in the GitHub repository.\n",
    "# Or in the Acknowledgements and Bibliography section. \n",
    "\n",
    "# Clean, merged data file\n",
    "data = pd.read_csv('final_ev_dataset.csv')\n",
    "\n",
    "display(data.head(n=5))"
   ]
  },
  {
   "cell_type": "markdown",
   "id": "95cb3cf7-09fe-4117-b334-0c1c35c2e443",
   "metadata": {},
   "source": [
    "## Preregistration Statement: "
   ]
  },
  {
   "cell_type": "markdown",
   "id": "1e1ede00-2588-4c29-a3e2-551beae10be7",
   "metadata": {},
   "source": [
    "### Preregistration Statement 1\n",
    "\n",
    "- **Hypothesis**:  \n",
    "  State-level electric vehicle (EV) registrations increase with the total number of federal incentives available.\n",
    "\n",
    "- **Context**:  \n",
    "  Federal incentives, such as tax credits and subsidies, are designed to reduce the upfront cost of EVs, making them more accessible to consumers. Studies have shown that these incentives significantly influence consumer purchasing decisions, leading to higher EV adoption rates. For instance, research indicates that federal tax credits have been a major driver in the growth of the EV market in the United States (Javadnejad et al., 2023).\n",
    "\n",
    "- **Analysis**:  \n",
    "  To test this hypothesis, we will run a linear regression per state with the total count of federal EV incentives as the independent variable and the total EV registrations in the state as the dependent variable. We will test whether βfederal_incentives > 0 for each model, which would indicate that an increase in total federal incentives is associated with increased total EV registrations at the state level.  \n",
    "---\n",
    "\n",
    "### Preregistration Statement 2\n",
    "\n",
    "- **Hypothesis**:  \n",
    "  State-level EV registrations increase with the state's renewable energy production.\n",
    "\n",
    "- **Context**:  \n",
    "  States that produce more renewable energy may foster a culture of environmental consciousness, leading to higher EV adoption rates. Additionally, consumers in these states might prefer EVs to align with the clean energy available, reducing the overall carbon footprint of their transportation. Research has shown a correlation between renewable energy policies and increased EV adoption, suggesting that the availability of clean energy sources can influence consumer behavior (Das & Bhat, 2021).\n",
    "\n",
    "- **Analysis**:  \n",
    "  For this hypothesis, we will run a linear regression per state with the renewable energy production of the state as the independent variable and the total EV registrations in the state as the dependent variable. We will test whether βrenewable_energy > 0 for each model, which would indicate that an increase in a state’s renewable energy production is associated with increased total EV registrations of the state.  \n",
    "\n",
    "---\n",
    "<p style=\"padding-bottom: 15px;\">These analyses aim to elucidate the impact of federal incentives and renewable energy production on EV adoption at the state level, providing insights for policymakers to design effective strategies to promote sustainable transportation.</p>\n"
   ]
  },
  {
   "cell_type": "markdown",
   "id": "a6cdced9-fe7f-4c30-8e12-ce0e070b3018",
   "metadata": {},
   "source": [
    "## Data Analysis: "
   ]
  },
  {
   "cell_type": "markdown",
   "id": "bb6b5cf9-6012-478b-a3a4-6b5dc0f17102",
   "metadata": {},
   "source": [
    "**Part 3: Multivariate Regression Model**\n",
    "\n",
    "$H_{0}$ : None of the predictor variables is useful in terms of predicting the EV registration (~adoption) rate.\n",
    "- $EV\\_Registration_{st} = \\beta_0 + \\beta_1 Min\\_Price_t + \\beta_2 Federal\\_Incentive_t + \\beta_3 Renewable\\_Production_{st} + \\beta_4 Charge\\_Stations_{st} + \\alpha_s + \\lambda_t + \\epsilon_{st}$\n",
    "\n",
    "<br>\n",
    "\n",
    "$H_{A}$ : At least one of the predictor variables (minimum price, federal incentives, charging stations, renewable energy production) is useful in terms of predicting the state-level EV registration rates.\n",
    "- $\\beta_i ≠ 0$ (where i ~ [0, 5])"
   ]
  },
  {
   "cell_type": "code",
   "execution_count": 8,
   "id": "aaeb28b1-1d30-4909-8048-ffdc76a15e17",
   "metadata": {},
   "outputs": [
    {
     "name": "stdout",
     "output_type": "stream",
     "text": [
      "                          PanelOLS Estimation Summary                           \n",
      "================================================================================\n",
      "Dep. Variable:         reg_per_capita   R-squared:                        0.9022\n",
      "Estimator:                   PanelOLS   R-squared (Between):              0.7410\n",
      "No. Observations:                  35   R-squared (Within):               0.9022\n",
      "Date:                Thu, Nov 21 2024   R-squared (Overall):              0.8352\n",
      "Time:                        20:29:46   Log-likelihood                    187.21\n",
      "Cov. Estimator:            Unadjusted                                           \n",
      "                                        F-statistic:                      59.992\n",
      "Entities:                           5   P-value                           0.0000\n",
      "Avg Obs:                       7.0000   Distribution:                    F(4,26)\n",
      "Min Obs:                       7.0000                                           \n",
      "Max Obs:                       7.0000   F-statistic (robust):             59.992\n",
      "                                        P-value                           0.0000\n",
      "Time periods:                       7   Distribution:                    F(4,26)\n",
      "Avg Obs:                       5.0000                                           \n",
      "Min Obs:                       5.0000                                           \n",
      "Max Obs:                       5.0000                                           \n",
      "                                                                                \n",
      "                                 Parameter Estimates                                 \n",
      "=====================================================================================\n",
      "                   Parameter  Std. Err.     T-stat    P-value    Lower CI    Upper CI\n",
      "-------------------------------------------------------------------------------------\n",
      "const                -0.0022     0.0017    -1.2737     0.2141     -0.0056      0.0013\n",
      "min_price         -1.368e-07  7.398e-08    -1.8489     0.0759  -2.889e-07   1.529e-08\n",
      "incentives            0.0003  3.075e-05     9.0244     0.0000      0.0002      0.0003\n",
      "renewable_prod    -1.194e-07   8.34e-08    -1.4313     0.1643  -2.908e-07   5.206e-08\n",
      "charge_per_capita     0.0006  9.433e-05     6.2065     0.0000      0.0004      0.0008\n",
      "=====================================================================================\n",
      "\n",
      "F-test for Poolability: 10.128\n",
      "P-value: 0.0000\n",
      "Distribution: F(4,26)\n",
      "\n",
      "Included effects: Entity\n"
     ]
    }
   ],
   "source": [
    "# Charge stations per capita\n",
    "data = data.set_index(['state', 'year'])\n",
    "\n",
    "input_var = ['min_price', 'incentives', 'renewable_prod', 'charge_per_capita']\n",
    "# input_var = ['min_price', 'incentives', 'renewable_prod', 'charge_stations']\n",
    "\n",
    "X = data[input_var]\n",
    "X = sm.add_constant(X)\n",
    "\n",
    "# Per Capita\n",
    "y = data['reg_per_capita']\n",
    "# y = data['registration']\n",
    "\n",
    "# Fit PanelOLS with fixed effects\n",
    "model = PanelOLS(y, X, entity_effects=True).fit()\n",
    "print(model.summary)"
   ]
  },
  {
   "cell_type": "markdown",
   "id": "365c091d-3165-43af-acc6-183cbd0720b9",
   "metadata": {},
   "source": [
    "**Interpretation of Coefficients**\n",
    "- $\\beta_0$ (const):\n",
    "- $\\beta_1$ (min_price): \n",
    "- $\\beta_2$ (incentives): \n",
    "- $\\beta_3$ (renewable_prod): \n",
    "- $\\beta_4$ (charge_stations): "
   ]
  },
  {
   "cell_type": "markdown",
   "id": "b26dd4cd-7b30-4064-ba4d-db588474037b",
   "metadata": {},
   "source": [
    "## Evaluation of Significance: "
   ]
  },
  {
   "cell_type": "code",
   "execution_count": null,
   "id": "20f0333b-8faa-4805-ae62-4d9f0ada4ddb",
   "metadata": {},
   "outputs": [],
   "source": []
  },
  {
   "cell_type": "markdown",
   "id": "8a5bfc80-9799-468a-a38d-823d5cfe648e",
   "metadata": {},
   "source": [
    "## Conclusions: "
   ]
  },
  {
   "cell_type": "code",
   "execution_count": null,
   "id": "3ffaa7ea-737e-4277-a244-e6abd22d1d9b",
   "metadata": {},
   "outputs": [],
   "source": []
  },
  {
   "cell_type": "markdown",
   "id": "584d6ccb-fd07-4375-8f0c-010b15aefe55",
   "metadata": {},
   "source": [
    "## Limitations: "
   ]
  },
  {
   "cell_type": "code",
   "execution_count": null,
   "id": "6899541d-2e28-442b-b0d4-0412c6f829fb",
   "metadata": {},
   "outputs": [],
   "source": []
  },
  {
   "cell_type": "markdown",
   "id": "5036cd31-9b40-4510-b960-b535205bed83",
   "metadata": {},
   "source": [
    "## Acknowledgements and Bibliography: "
   ]
  },
  {
   "cell_type": "markdown",
   "id": "198cbcf3-b0f1-4146-afd8-f4c9553e510e",
   "metadata": {},
   "source": [
    "**<h4>Current Notebook</h4>**\n",
    "\n",
    "<p style=\"padding-left: 40px; text-indent: -40px;\">\n",
    "Das, P.K., & Bhat, M.Y. (2021). Renewable energy policies and EV adoption. <i>Environmental Science and Pollution Research</i>. Retrieved from <a href=\"https://link.springer.com/article/10.1007/s11356-021-18211-w\">https://link.springer.com/article/10.1007/s11356-021-18211-w</a>\n",
    "</p>\n",
    "\n",
    "<p style=\"padding-left: 40px; text-indent: -40px;\">\n",
    "Javadnejad, R., et al. (2023). Federal tax credits and EV adoption. <i>Environment, Development and Sustainability</i>. Retrieved from <a href=\"https://link.springer.com/article/10.1007/s10669-023-09958-3\">https://link.springer.com/article/10.1007/s10669-023-09958-3</a>\n",
    "</p>\n",
    "\n",
    "---\n",
    "\n",
    "**<h4>Data Cleaning Notebook (INFO2950_Phase_4_Data)</h4>**\n",
    "\n",
    "<p style=\"padding-left: 40px; text-indent: -40px;\">\n",
    "    Federal Highway Administration. (2023, March 14). <i>Biden-Harris Administration opens applications for first round of $2.5 billion program to build EV charging infrastructure</i>. Retrieved from <a href=\"https://highways.dot.gov/newsroom/biden-harris-administration-opens-applications-first-round-25-billion-program-build-ev\">https://highways.dot.gov/newsroom/biden-harris-administration-opens-applications-first-round-25-billion-program-build-ev</a>\n",
    "</p>\n",
    "\n",
    "<p style=\"padding-left: 40px; text-indent: -40px;\">\n",
    "    Federal Highway Administration. (n.d.). <i>Fixing America's Surface Transportation Act or \"FAST Act\"</i>. Retrieved from <a href=\"https://ops.fhwa.dot.gov/fastact/#:~:text=Fixing%20America's%20Surface%20Transportation%20Act%20or%20%22FAST%20Act%22&text=On%20December%204%2C%202015%2C%20President,funding%20certainty%20for%20surface%20transportation.\">https://ops.fhwa.dot.gov/fastact/#:~:text=Fixing%20America's%20Surface%20Transportation%20Act%20or%20\"FAST Act\"</a>\n",
    "</p>\n",
    "\n",
    "<p style=\"padding-left: 40px; text-indent: -40px;\">\n",
    "    Joint Office of Energy and Transportation (2023, September 21). <i>EV Charger Reliability and Accessibility Accelerator Webinar</i>. Retrieved from <a href=\"https://driveelectric.gov/webinars/ev-charger-reliability-accessibility-accelerator\">https://driveelectric.gov/webinars/ev-charger-reliability-accessibility-accelerator</a>\n",
    "</p>\n",
    "\n",
    "<p style=\"padding-left: 40px; text-indent: -40px;\">\n",
    "    National Renewable Energy Laboratory. (n.d.). <i>American Made Program 5-Year Report</i>. Retrieved from <a href=\"https://americanmadechallenges.org/American-Made-Program-5-Year-Report.pdf\">https://americanmadechallenges.org/American-Made-Program-5-Year-Report.pdf</a>\n",
    "</p>\n",
    "\n",
    "<p style=\"padding-left: 40px; text-indent: -40px;\">\n",
    "    Open Charge Map. (2024). <i>Open Charge Map API</i>. Retrieved November 20, 2024, from <a href=\"https://openchargemap.org/site/develop/api\">https://openchargemap.org/site/develop/api</a>\n",
    "</p>\n",
    "\n",
    "<p style=\"padding-left: 40px; text-indent: -40px;\">\n",
    "U.S. Census Bureau, Population Division. (2019). Annual Estimates of the Resident Population for the United States, Regions, States, and Puerto Rico: April 1, 2010 to July 1, 2019 (NST-EST2019-01) [Data file]. Retrieved from <a href=\"https://www2.census.gov/programs-surveys/popest/tables/2010-2019/state/totals/nst-est2019-01.xlsx\">https://www2.census.gov/programs-surveys/popest/tables/2010-2019/state/totals/nst-est2019-01.xlsx>\n",
    "</p>\n",
    "\n",
    "<p style=\"padding-left: 40px; text-indent: -40px;\">\n",
    "    U.S. Census Bureau, Population Division. (2023). <i>Annual Estimates of the Resident Population for the United States, Regions, States, District of Columbia, and Puerto Rico: April 1, 2020 to July 1, 2023 (NST-EST2023-POP) [Data file]</i>. Retrieved from <a href=\"https://www2.census.gov/programs-surveys/popest/tables/2020-2023/state/totals/NST-EST2023-POP.xlsx\">https://www2.census.gov/programs-surveys/popest/tables/2020-2023/state/totals/NST-EST2023-POP.xlsx</a>\n",
    "</p>\n",
    "\n",
    "<p style=\"padding-left: 40px; text-indent: -40px;\">\n",
    "    U.S. Department of Agriculture. (2022). <i>EV Charging Stations Fact Sheet</i>. Retrieved from <a href=\"https://www.rd.usda.gov/sites/default/files/508_RD_FS_71EVChargingStations.pdf\">https://www.rd.usda.gov/sites/default/files/508_RD_FS_71EVChargingStations.pdf</a>\n",
    "</p>\n",
    "\n",
    "<p style=\"padding-left: 40px; text-indent: -40px;\">\n",
    "    U.S. Department of Energy. (2023). <i>Alternative Fuels Data Center: Vehicle Registration Data</i>. Retrieved from <a href=\"https://afdc.energy.gov/vehicle-registration?year=2023\">https://afdc.energy.gov/vehicle-registration?year=2023</a>\n",
    "</p>\n",
    "\n",
    "<p style=\"padding-left: 40px; text-indent: -40px;\">\n",
    "    U.S. Department of Energy. (2023). <i>Domestic Manufacturing Conversion Grants</i>. Retrieved from <a href=\"https://www.energy.gov/mesc/domestic-manufacturing-conversion-grants\">https://www.energy.gov/mesc/domestic-manufacturing-conversion-grants</a>\n",
    "</p>\n",
    "\n",
    "<p style=\"padding-left: 40px; text-indent: -40px;\">\n",
    "    U.S. Department of Energy. (n.d.). <i>Find and Compare Cars</i>. Retrieved from <a href=\"https://www.fueleconomy.gov/feg/PowerSearch.do?action=noform&year1=2016&year2=2023&minmsrpsel=0&maxmsrpsel=0&city=0&hwy=0&comb=0&cbvtelectric=Electric&YearSel=2016-2023&make=&mclass=&vfuel=&vtype=Electric&trany=&drive=&cyl=&MpgSel=000&sortBy=Comb&Units=&url=SearchServlet&opt=new&minmsrp=0&maxmsrp=0&minmpg=0&maxmpg=0&sCharge=&tCharge=&startstop=&cylDeact=&rowLimit=200&pageno=1&tabView=0\">https://www.fueleconomy.gov/feg/PowerSearch.do?action=noform&year1=2016&year2=2023</a>\n",
    "</p>\n",
    "\n",
    "<p style=\"padding-left: 40px; text-indent: -40px;\">\n",
    "    U.S. Department of Energy, Office of Energy Efficiency & Renewable Energy. (2024). <i>Alternative Fuels Data Center: Data Download [Data file]</i>. Retrieved November 20, 2024, from <a href=\"https://afdc.energy.gov/data_download\">https://afdc.energy.gov/data_download</a>\n",
    "</p>\n",
    "\n",
    "<p style=\"padding-left: 40px; text-indent: -40px;\">\n",
    "    U.S. Department of Transportation. (n.d.). <i>Resilient Surface Transportation Grants</i>. Retrieved from <a href=\"https://www.transit.dot.gov/grants?combine=Resilient+Surface+Transportation+Grants&field_grant_type_target_id=All\">https://www.transit.dot.gov/grants?combine=Resilient+Surface+Transportation+Grants&field_grant_type_target_id=All</a>\n",
    "</p>\n",
    "\n",
    "<p style=\"padding-left: 40px; text-indent: -40px;\">\n",
    "    U.S. Energy Information Administration. (n.d.). <i>State Energy Data System (SEDS): 1960-2021 (Complete) [Data file]</i>. Retrieved from <a href=\"https://www.eia.gov/state/seds/sep_prod/SEDS_Production_Report.pdf\">https://www.eia.gov/state/seds/sep_prod/SEDS_Production_Report.pdf</a>\n",
    "</p>\n",
    "\n",
    "<p style=\"padding-left: 40px; text-indent: -40px;\">\n",
    "    U.S. Environmental Protection Agency. (2022). <i>Bipartisan Infrastructure Law Clean School Bus Program: Initial Implementation Report to Congress</i>. Retrieved from <a href=\"https://nepis.epa.gov/Exe/ZyPDF.cgi?Dockey=P1014098.pdf\">https://nepis.epa.gov/Exe/ZyPDF.cgi?Dockey=P1014098.pdf</a>\n",
    "</p>\n",
    "\n",
    "<p style=\"padding-left: 40px; text-indent: -40px;\">\n",
    "    U.S. Environmental Protection Agency. (2024, April 24). <i>Biden-Harris Administration announces nearly $1 billion in grants to invest in America's clean energy future</i>. Retrieved from <a href=\"https://www.epa.gov/newsreleases/biden-harris-administration-announces-nearly-1-billion-grants-invest-americas-clean-0\">https://www.epa.gov/newsreleases/biden-harris-administration-announces-nearly-1-billion-grants-invest-americas-clean-0</a>\n",
    "</p>\n",
    "\n",
    "<p style=\"padding-left: 40px; text-indent: -40px;\">\n",
    "    WE ACT for Environmental Justice. (2023). <i>TCTAC</i>. Retrieved from <a href=\"https://www.weact.org/tctac/\">https://www.weact.org/tctac/</a>\n",
    "</p>\n",
    "\n",
    "<p style=\"padding-left: 40px; text-indent: -40px;\">\n",
    "    Western Interstate Energy Board. (n.d.). <i>Western Interstate Energy Board supports continued funding for the U.S. Department of Energy State Energy Program (SEP)</i>. Retrieved from <a href=\"https://www.westernenergyboard.org/western-interstate-energy-board-supports-continued-funding-for-the-u-s-department-of-energy-state-energy-program-sep/\">https://www.westernenergyboard.org/western-interstate-energy-board-supports-continued-funding-for-the-u-s-department-of-energy-state-energy-program-sep/</a>\n",
    "</p>\n",
    "\n",
    "\n",
    "\n",
    "\n"
   ]
  }
 ],
 "metadata": {
  "kernelspec": {
   "display_name": "Python 3 (ipykernel)",
   "language": "python",
   "name": "python3"
  },
  "language_info": {
   "codemirror_mode": {
    "name": "ipython",
    "version": 3
   },
   "file_extension": ".py",
   "mimetype": "text/x-python",
   "name": "python",
   "nbconvert_exporter": "python",
   "pygments_lexer": "ipython3",
   "version": "3.12.3"
  }
 },
 "nbformat": 4,
 "nbformat_minor": 5
}
