{
 "cells": [
  {
   "cell_type": "markdown",
   "id": "d67a246d-d45b-4297-958c-2ba34b6c7a43",
   "metadata": {},
   "source": [
    "# INFO 2950 Final Project - Phase II"
   ]
  },
  {
   "cell_type": "markdown",
   "id": "326aa8d3-cb92-4e9c-a86e-1325f45c0139",
   "metadata": {},
   "source": [
    "## Research Questions: \n",
    "\n",
    "**Question**: Can we reliably predict a state's CO2 emissions based of of their population, income, prison population, and  other variables?\n",
    "Total number of EVs sold per year per state (TBD: what states to focus on)\n",
    "\n",
    "In this assignment we would like to see if there is a correlation between population and CO2 emmission rates, population and prision population, population and average annual income, average annual income and CO2 emmision rates, average annual income and prision population, and CO2 emmisions and prision populations. We will train a multivariable regression to see if we can reliably predict a state's CO2 emissions based off of population, income, prison population, and possibly other variables.\n",
    "\n",
    "Originally our research was centered around predicting population based on multiple variables, however as we went and found more data we started thinking about how all of the variables we were looking up would affect the planet. This led us to searching for datasets regarding CO2. We were inspired by the data we had already collected to pivot our resesrch question to be about how population, income, and prison population would affect CO2 levels per state."
   ]
  },
  {
   "cell_type": "markdown",
   "id": "4bef32d1-fd35-499e-8f8e-e69af3c8abed",
   "metadata": {},
   "source": [
    "## Data Descriptions:\n",
    "\n",
    "We collected 5 data tables for this phase: one pertaining to the variable we are aiming to predict, and four input variables for our model.\n",
    "\n",
    "1. **Vehicle Registration Counts by State**\n",
    "   * <u>Data Source</u>: US Department of Energy - Alternative Fuels Data Center (AFDC)\n",
    "   * <u>URL</u>: https://afdc.energy.gov/vehicle-registration?year=2023\n",
    "   * <u>Description</u>: This page provides approximate light-duty vehicle registration counts derived by the National Renewable Energy Laboratory with data from Experian Information Solutions. Counts are rounded to the closest 100 vehicles and reflect the total number of light-duty registered vehicles through the selected year. Fuel types are based on vehicle identification numbers (VINs), which do not reflect aftermarket conversions to use different fuels or power sources.\n",
    "\n",
    "2. **Renewable and Total Energy Production by State**\n",
    "    * <u>Data Source</u>: \n",
    "    * <u>URL</u>: \n",
    "    * <u>Description</u>: \n",
    "\n",
    "\n",
    "3. **EV Pricing**\n",
    "    * <u>Data Source</u>: \n",
    "    * <u>URL</u>: \n",
    "    * <u>Description</u>: \n",
    "\n",
    "\n",
    "4. \n",
    "    * <u>Data Source</u>: \n",
    "    * <u>URL</u>: \n",
    "    * <u>Description</u>: \n",
    "\n",
    "\n",
    "5. \n",
    "    * <u>Data Source</u>: \n",
    "    * <u>URL</u>: \n",
    "    * <u>Description</u>: \n"
   ]
  },
  {
   "cell_type": "markdown",
   "id": "fd915ae2-6f72-4df0-adb4-925ff7922a5b",
   "metadata": {},
   "source": [
    "## Importing:"
   ]
  },
  {
   "cell_type": "code",
   "execution_count": 6,
   "id": "89b80697-cff2-4ac5-9a26-0ff708ce5749",
   "metadata": {},
   "outputs": [],
   "source": [
    "import numpy as np \n",
    "import pandas as pd \n",
    "import seaborn as sns \n",
    "import matplotlib.pyplot as plt \n",
    "import requests\n",
    "from bs4 import BeautifulSoup\n",
    "import os"
   ]
  },
  {
   "cell_type": "markdown",
   "id": "72201eac-5604-4b3a-87b9-4adba12a3fe2",
   "metadata": {},
   "source": [
    "## Data Cleaning:"
   ]
  },
  {
   "cell_type": "markdown",
   "id": "1f5626dc-5897-4a92-b3b7-724cebc8de61",
   "metadata": {},
   "source": [
    "## Data Limitations:"
   ]
  },
  {
   "cell_type": "markdown",
   "id": "3b9212e3-ad9a-4ab1-9315-a10f34e034f4",
   "metadata": {},
   "source": [
    "## Exploratory Data Analysis: "
   ]
  },
  {
   "cell_type": "markdown",
   "id": "557e6170-5d9c-4271-897b-657036aedd8b",
   "metadata": {},
   "source": [
    "## Questions For Reviewers: "
   ]
  }
 ],
 "metadata": {
  "kernelspec": {
   "display_name": "Python 3 (ipykernel)",
   "language": "python",
   "name": "python3"
  },
  "language_info": {
   "codemirror_mode": {
    "name": "ipython",
    "version": 3
   },
   "file_extension": ".py",
   "mimetype": "text/x-python",
   "name": "python",
   "nbconvert_exporter": "python",
   "pygments_lexer": "ipython3",
   "version": "3.12.3"
  }
 },
 "nbformat": 4,
 "nbformat_minor": 5
}
