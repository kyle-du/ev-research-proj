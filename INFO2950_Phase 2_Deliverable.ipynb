{
 "cells": [
  {
   "cell_type": "markdown",
   "id": "d67a246d-d45b-4297-958c-2ba34b6c7a43",
   "metadata": {},
   "source": [
    "# INFO 2950 Final Project - Phase II"
   ]
  },
  {
   "cell_type": "markdown",
   "id": "326aa8d3-cb92-4e9c-a86e-1325f45c0139",
   "metadata": {},
   "source": [
    "## Research Questions: \n"
   ]
  },
  {
   "cell_type": "markdown",
   "id": "4bef32d1-fd35-499e-8f8e-e69af3c8abed",
   "metadata": {
    "jp-MarkdownHeadingCollapsed": true
   },
   "source": [
    "## Data Descriptions:\n",
    "\n",
    "We collected 5 data tables for this phase: one pertaining to the variable we are aiming to predict, and four input variables for our model.\n",
    "\n",
    "1. **Vehicle Registration Counts by State**\n",
    "   * <u>Data Source</u>: US Department of Energy - Alternative Fuels Data Center (AFDC)\n",
    "   * <u>URL</u>: https://afdc.energy.gov/vehicle-registration?year=2023\n",
    "   * <u>Description</u>: This page provides approximate light-duty vehicle registration counts derived by the National Renewable Energy Laboratory with data from Experian Information Solutions. Counts are rounded to the closest 100 vehicles and reflect the total number of light-duty registered vehicles through the selected year. Fuel types are based on vehicle identification numbers (VINs), which do not reflect aftermarket conversions to use different fuels or power sources.\n",
    "\n",
    "2. **Renewable and Total Energy Production by State**\n",
    "    * <u>Data Source</u>: \n",
    "    * <u>URL</u>: \n",
    "    * <u>Description</u>: \n",
    "\n",
    "\n",
    "3. **EV Pricing**\n",
    "    * <u>Data Source</u>: \n",
    "    * <u>URL</u>: \n",
    "    * <u>Description</u>: \n",
    "\n",
    "\n",
    "4. **EV Charging Stations**\n",
    "    * <u>Data Source</u>: \n",
    "    * <u>URL</u>: \n",
    "    * <u>Description</u>: \n",
    "\n",
    "\n",
    "5. **EV Incentives**\n",
    "    * <u>Data Source</u>: \n",
    "    * <u>URL</u>: \n",
    "    * <u>Description</u>: \n"
   ]
  },
  {
   "cell_type": "markdown",
   "id": "fd915ae2-6f72-4df0-adb4-925ff7922a5b",
   "metadata": {},
   "source": [
    "## Importing:"
   ]
  },
  {
   "cell_type": "code",
   "execution_count": 1,
   "id": "365b6951-9aab-42a0-8b4e-94220859d05b",
   "metadata": {},
   "outputs": [
    {
     "name": "stdout",
     "output_type": "stream",
     "text": [
      "Requirement already satisfied: pdfplumber in /Users/jamiejeong/opt/anaconda3/envs/info2950/lib/python3.12/site-packages (0.11.4)\n",
      "Requirement already satisfied: pdfminer.six==20231228 in /Users/jamiejeong/opt/anaconda3/envs/info2950/lib/python3.12/site-packages (from pdfplumber) (20231228)\n",
      "Requirement already satisfied: Pillow>=9.1 in /Users/jamiejeong/opt/anaconda3/envs/info2950/lib/python3.12/site-packages (from pdfplumber) (10.4.0)\n",
      "Requirement already satisfied: pypdfium2>=4.18.0 in /Users/jamiejeong/opt/anaconda3/envs/info2950/lib/python3.12/site-packages (from pdfplumber) (4.30.0)\n",
      "Requirement already satisfied: charset-normalizer>=2.0.0 in /Users/jamiejeong/opt/anaconda3/envs/info2950/lib/python3.12/site-packages (from pdfminer.six==20231228->pdfplumber) (3.3.2)\n",
      "Requirement already satisfied: cryptography>=36.0.0 in /Users/jamiejeong/opt/anaconda3/envs/info2950/lib/python3.12/site-packages (from pdfminer.six==20231228->pdfplumber) (43.0.1)\n",
      "Requirement already satisfied: cffi>=1.12 in /Users/jamiejeong/opt/anaconda3/envs/info2950/lib/python3.12/site-packages (from cryptography>=36.0.0->pdfminer.six==20231228->pdfplumber) (1.16.0)\n",
      "Requirement already satisfied: pycparser in /Users/jamiejeong/opt/anaconda3/envs/info2950/lib/python3.12/site-packages (from cffi>=1.12->cryptography>=36.0.0->pdfminer.six==20231228->pdfplumber) (2.21)\n",
      "Note: you may need to restart the kernel to use updated packages.\n"
     ]
    }
   ],
   "source": [
    "pip install pdfplumber"
   ]
  },
  {
   "cell_type": "code",
   "execution_count": 2,
   "id": "89b80697-cff2-4ac5-9a26-0ff708ce5749",
   "metadata": {},
   "outputs": [],
   "source": [
    "import numpy as np \n",
    "import pandas as pd \n",
    "import seaborn as sns \n",
    "import matplotlib.pyplot as plt \n",
    "import requests\n",
    "from bs4 import BeautifulSoup\n",
    "import os\n",
    "import re\n",
    "import requests\n",
    "import pdfplumber\n",
    "from io import BytesIO"
   ]
  },
  {
   "cell_type": "markdown",
   "id": "2c9e4a30-57e6-4cfd-ac26-d4e2fc77bc9f",
   "metadata": {},
   "source": [
    "## Data Scraping:"
   ]
  },
  {
   "cell_type": "markdown",
   "id": "71507780-a984-482e-824d-3d23d8f8dbca",
   "metadata": {},
   "source": [
    "1. **Vehicle Registration Counts by State**\n",
    "   * <u>Data Source</u>: US Department of Energy - Alternative Fuels Data Center (AFDC)\n",
    "   * <u>URL</u>: https://afdc.energy.gov/vehicle-registration?year=2023"
   ]
  },
  {
   "cell_type": "code",
   "execution_count": 6,
   "id": "898c5c88-1016-4a7a-bcc3-60fbe5eefa00",
   "metadata": {},
   "outputs": [
    {
     "name": "stdout",
     "output_type": "stream",
     "text": [
      "Scraping data for 2016...\n",
      "Found 54 rows in the table for 2016.\n",
      "Scraping data for 2017...\n",
      "Found 54 rows in the table for 2017.\n",
      "Scraping data for 2018...\n",
      "Found 54 rows in the table for 2018.\n",
      "Scraping data for 2019...\n",
      "Found 54 rows in the table for 2019.\n",
      "Scraping data for 2020...\n",
      "Found 54 rows in the table for 2020.\n",
      "Scraping data for 2021...\n",
      "Found 54 rows in the table for 2021.\n",
      "Scraping data for 2022...\n",
      "Found 54 rows in the table for 2022.\n",
      "Scraping data for 2023...\n",
      "Found 54 rows in the table for 2023.\n",
      "Headers found: ['State', 'Electric', 'PHEV', 'HEV', 'Biodiesel', 'Flex', 'CNG', 'Propane', 'Hydrogen', 'Methanol', 'Gas', 'Diesel', 'Unknown']\n",
      "   Year       State Electric     PHEV      HEV Biodiesel       Flex     CNG  \\\n",
      "0  2016     Alabama      500      900   29,100         0    428,300  20,100   \n",
      "1  2016      Alaska      200      200    5,000         0     55,700   4,900   \n",
      "2  2016     Arizona    4,700    4,400   89,600         0    427,300  17,500   \n",
      "3  2016    Arkansas      200      500   19,100         0    320,500  12,600   \n",
      "4  2016  California  141,500  116,700  966,700         0  1,322,600  80,600   \n",
      "\n",
      "  Propane Hydrogen Methanol         Gas   Diesel  Unknown  \n",
      "0       0        0        0   3,777,300  126,500   53,900  \n",
      "1       0        0        0     525,900   44,800   19,400  \n",
      "2       0        0      100   4,805,000  179,500  112,800  \n",
      "3       0        0        0   2,097,800   96,800   22,200  \n",
      "4       0    1,300      400  27,241,000  710,400  115,500  \n"
     ]
    }
   ],
   "source": [
    "afdc_url = \"https://afdc.energy.gov/vehicle-registration?year={}\"\n",
    "years = range(2016, 2024)\n",
    "\n",
    "compiled_data = []\n",
    "\n",
    "for year in years:\n",
    "    url = afdc_url.format(year)\n",
    "    afdc_result = requests.get(url)\n",
    "\n",
    "    if afdc_result.status_code == 200:\n",
    "        print(f\"Scraping data for {year}...\")\n",
    "                \n",
    "    page = BeautifulSoup(afdc_result.text, 'html.parser')\n",
    "                \n",
    "    table = page.find('table')\n",
    "                \n",
    "    if table:\n",
    "        rows = table.find_all('tr')\n",
    "\n",
    "        print(f\"Found {len(rows)} rows in the table for {year}.\")\n",
    "                    \n",
    "        for row in rows[2:]: \n",
    "            cols = row.find_all('td')\n",
    "            cols = [col.text.strip() for col in cols]\n",
    "                        \n",
    "            compiled_data.append([year] + cols)\n",
    "\n",
    "    else:\n",
    "        print(f\"Failed to retrieve data for {year}: {afdc_result.status_code} - {afdc_result.reason}\")\n",
    "\n",
    "\n",
    "if table:\n",
    "        header_row = table.find('tbody').find_all('tr')[0]\n",
    "        headers = [td['headers'] for td in header_row.find_all('td')]\n",
    "        clean_headers = []\n",
    "        for header in headers:\n",
    "            if header[0].isupper():\n",
    "                    clean_headers.append(header[0].strip())\n",
    "            else:\n",
    "                    clean_headers.append(header[0].strip().capitalize())\n",
    "        \n",
    "        print(f\"Headers found: {clean_headers}\")\n",
    "    \n",
    "compiled_df = pd.DataFrame(compiled_data, columns=[\"Year\"] + clean_headers)\n",
    "\n",
    "print(compiled_df.head(n=5))"
   ]
  },
  {
   "cell_type": "markdown",
   "id": "d884c4d3-a1ed-43b4-b974-1bfffd8a602e",
   "metadata": {},
   "source": [
    "2. **Renewable and Total Energy Production by State**\n",
    "    * <u>Data Source</u>: US Energy Information Administration (EIA) – State Energy Data System (SEDS)\n",
    "    * <u>Website URL</u>: https://www.eia.gov/renewable/data.php\n",
    "    * <u>PDF URL</u>: https://www.eia.gov/state/seds/sep_prod/SEDS_Production_Report.pdf"
   ]
  },
  {
   "cell_type": "code",
   "execution_count": 4,
   "id": "dc86ea78-98be-40fc-8c3e-2b3fc4f78628",
   "metadata": {},
   "outputs": [],
   "source": [
    "def extract_pdf(pdf_url, start_page, end_page):\n",
    "    response = requests.get(pdf_url)\n",
    "    \n",
    "    if response.status_code == 200:\n",
    "        file = BytesIO(response.content)\n",
    "        \n",
    "        with pdfplumber.open(file) as pdf:\n",
    "            all_tables = []\n",
    "            \n",
    "            for i in range(start_page, end_page):\n",
    "                one_page = []  \n",
    "                count = 0  \n",
    "                \n",
    "                page = pdf.pages[i]\n",
    "                text = page.extract_text()\n",
    "                \n",
    "                entries = re.findall(r'NA|\\(s\\)|\\b\\d{1,3}(?:,\\d{3})*(?:\\.\\d+)?\\b', text)\n",
    "                \n",
    "                cleaned_entries = [float(num.replace(',', '')) if num not in ['NA', '(s)'] else num for num in entries]\n",
    "                \n",
    "                one_page.extend(cleaned_entries)\n",
    "                count += len(cleaned_entries)\n",
    "\n",
    "                one_page = one_page[:354]\n",
    "                \n",
    "                reshaped_data = np.array(one_page).reshape(59, 6)\n",
    "                \n",
    "                all_tables.append(reshaped_data)\n",
    "                \n",
    "            return all_tables  \n",
    "\n",
    "    else:\n",
    "        return \"Something went wrong\"\n",
    "\n",
    "pdf_url = 'https://www.eia.gov/state/seds/sep_prod/SEDS_Production_Report.pdf'\n",
    "\n",
    "data = extract_pdf(pdf_url, 17, 119)"
   ]
  },
  {
   "cell_type": "code",
   "execution_count": 5,
   "id": "bd41305b-6260-41bb-b6a4-e3fa8f2de35c",
   "metadata": {},
   "outputs": [
    {
     "name": "stdout",
     "output_type": "stream",
     "text": [
      "     State     Units Coal (K short tons) Natural Gas (M cubic ft)  \\\n",
      "0  Alabama  Physical             13011.0                     57.0   \n",
      "1  Alabama  Physical             14832.0                    203.0   \n",
      "2  Alabama  Physical             14219.0                    252.0   \n",
      "3  Alabama  Physical             15486.0                    248.0   \n",
      "4  Alabama  Physical             16440.0                    230.0   \n",
      "\n",
      "  Crude Oil (K barrels) Fuel Ethanol (K barrels) Biodiesel (K barrels)  \\\n",
      "0                7329.0                       NA                    NA   \n",
      "1                8064.0                       NA                    NA   \n",
      "2                8030.0                       NA                    NA   \n",
      "3                7348.0                       NA                    NA   \n",
      "4                7635.0                       NA                    NA   \n",
      "\n",
      "  Renewable Diesel (K barrels)  \n",
      "0                           NA  \n",
      "1                           NA  \n",
      "2                           NA  \n",
      "3                           NA  \n",
      "4                           NA  \n",
      "     State    Units Coal (T Btu) Natural Gas (T Btu) Crude Oil (T Btu)  \\\n",
      "0  Alabama  Thermal        318.8                 0.1              42.5   \n",
      "1  Alabama  Thermal         21.0               428.0             363.4   \n",
      "2  Alabama  Thermal           NA                47.6              24.0   \n",
      "3  Alabama  Thermal         46.6                 0.0                NA   \n",
      "4  Alabama  Thermal        379.5                 0.4              42.6   \n",
      "\n",
      "  Fuel Ethanol (T Btu) Biodiesel (T Btu) Renewable Diesel (T Btu)  \n",
      "0                  0.0                NA                     45.7  \n",
      "1                  0.3              46.8                      0.0  \n",
      "2                482.0             348.4                      0.4  \n",
      "3                 49.1              23.0                    468.0  \n",
      "4                  0.0                NA                     49.1  \n"
     ]
    }
   ],
   "source": [
    "states = [\"Alabama\", \"Alaska\", \"Arizona\", \"Arkansas\", \n",
    "          \"California\", \"Colorado\", \"Connecticut\", \n",
    "          \"Delaware\", \"District of Columbia\", \"Florida\", \n",
    "          \"Georgia\", \"Hawaii\", \"Idaho\", \"Illinois\", \n",
    "          \"Indiana\", \"Iowa\", \"Kansas\", \"Kentucky\", \n",
    "          \"Louisiana\", \"Maine\", \"Maryland\", \"Massachusetts\", \n",
    "          \"Michigan\", \"Minnesota\", \"Mississippi\", \"Missouri\", \n",
    "          \"Montana\", \"Nebraska\", \"Nevada\", \"New Hampshire\", \n",
    "          \"New Jersey\", \"New Mexico\", \"New York\", \"North Carolina\", \n",
    "          \"North Dakota\", \"Ohio\", \"Oklahoma\", \"Oregon\", \"Pennsylvania\", \n",
    "          \"Rhode Island\", \"South Carolina\", \"South Dakota\", \"Tennessee\",\n",
    "          \"Texas\", \"Utah\", \"Vermont\", \"Virginia\", \"Washington\", \n",
    "          \"West Virginia\", \"Wisconsin\", \"Wyoming\"]\n",
    "\n",
    "physical_units = []\n",
    "thermal_units = []\n",
    "\n",
    "for j in range(len(data)):\n",
    "    df = pd.DataFrame(data[j])\n",
    "    \n",
    "    if j % 2 == 0: \n",
    "        state_index = j//2\n",
    "        df.insert(0, 'State', states[state_index])\n",
    "        physical_units.append(df)\n",
    "\n",
    "    else:\n",
    "        state_index = (j-1)//2\n",
    "        df.insert(0, 'State', states[state_index])\n",
    "        thermal_units.append(df)\n",
    "\n",
    "\n",
    "physical_units_df = pd.concat(physical_units, ignore_index=True)\n",
    "\n",
    "physical_units_df.insert(1, 'Units', \"Physical\")\n",
    "physical_units_df.rename(\n",
    "    columns={\n",
    "            0: 'Coal (K short tons)', \n",
    "            1: 'Natural Gas (M cubic ft)',\n",
    "            2: 'Crude Oil (K barrels)',\n",
    "            3: 'Fuel Ethanol (K barrels)',\n",
    "            4: 'Biodiesel (K barrels)',\n",
    "            5: 'Renewable Diesel (K barrels)'\n",
    "        }, inplace=True)\n",
    "\n",
    "\n",
    "thermal_units_df = pd.concat(thermal_units, ignore_index=True)    \n",
    "\n",
    "thermal_units_df.insert(1, 'Units', \"Thermal\")\n",
    "thermal_units_df.rename(\n",
    "        columns={\n",
    "            0: 'Coal (T Btu)', \n",
    "            1: 'Natural Gas (T Btu)',\n",
    "            2: 'Crude Oil (T Btu)',\n",
    "            3: 'Fuel Ethanol (T Btu)',\n",
    "            4: 'Biodiesel (T Btu)',\n",
    "            5: 'Renewable Diesel (T Btu)'\n",
    "        }, inplace=True)\n",
    "\n",
    "print(physical_units_df.head(n=5))\n",
    "print(thermal_units_df.head(n=5))"
   ]
  },
  {
   "cell_type": "markdown",
   "id": "72201eac-5604-4b3a-87b9-4adba12a3fe2",
   "metadata": {},
   "source": [
    "## Data Cleaning:"
   ]
  },
  {
   "cell_type": "markdown",
   "id": "1f5626dc-5897-4a92-b3b7-724cebc8de61",
   "metadata": {
    "jp-MarkdownHeadingCollapsed": true
   },
   "source": [
    "## Data Limitations:"
   ]
  },
  {
   "cell_type": "markdown",
   "id": "3b9212e3-ad9a-4ab1-9315-a10f34e034f4",
   "metadata": {},
   "source": [
    "## Exploratory Data Analysis: "
   ]
  },
  {
   "cell_type": "markdown",
   "id": "557e6170-5d9c-4271-897b-657036aedd8b",
   "metadata": {},
   "source": [
    "## Questions For Reviewers: "
   ]
  },
  {
   "cell_type": "code",
   "execution_count": null,
   "id": "1a8dea1c-6ae1-4169-9155-f051fd454d02",
   "metadata": {},
   "outputs": [],
   "source": []
  }
 ],
 "metadata": {
  "kernelspec": {
   "display_name": "Python 3 (ipykernel)",
   "language": "python",
   "name": "python3"
  },
  "language_info": {
   "codemirror_mode": {
    "name": "ipython",
    "version": 3
   },
   "file_extension": ".py",
   "mimetype": "text/x-python",
   "name": "python",
   "nbconvert_exporter": "python",
   "pygments_lexer": "ipython3",
   "version": "3.12.3"
  }
 },
 "nbformat": 4,
 "nbformat_minor": 5
}
