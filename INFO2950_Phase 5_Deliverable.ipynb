{
 "cells": [
  {
   "cell_type": "markdown",
   "id": "3b1d681a-82e5-4cbc-ae95-ba4bf2d30f84",
   "metadata": {},
   "source": [
    "# INFO 2950 Final Project"
   ]
  },
  {
   "cell_type": "code",
   "execution_count": 1,
   "id": "1767475a-575b-4560-acca-5a9f091f26a5",
   "metadata": {},
   "outputs": [],
   "source": [
    "#pip install linearmodels"
   ]
  },
  {
   "cell_type": "code",
   "execution_count": 2,
   "id": "0bec61c3-6005-4044-8bea-192ee6551508",
   "metadata": {},
   "outputs": [],
   "source": [
    "#Imports\n",
    "import numpy as np \n",
    "import pandas as pd \n",
    "import seaborn as sns \n",
    "import matplotlib.pyplot as plt \n",
    "import requests\n",
    "from bs4 import BeautifulSoup\n",
    "import os\n",
    "import re\n",
    "import pdfplumber\n",
    "import duckdb\n",
    "import statsmodels.api as sm\n",
    "from io import BytesIO\n",
    "from linearmodels.panel import PanelOLS\n",
    "from sklearn.model_selection import train_test_split\n",
    "from sklearn.linear_model import LinearRegression"
   ]
  },
  {
   "cell_type": "markdown",
   "id": "c4e6bdfc-8f62-4f73-a4b2-b97e4e128af5",
   "metadata": {},
   "source": [
    "## Introduction:"
   ]
  },
  {
   "cell_type": "markdown",
   "id": "df0986eb-21eb-4dba-bbb6-98167cc0c2e4",
   "metadata": {
    "jp-MarkdownHeadingCollapsed": true
   },
   "source": [
    "The rapid adoption of electric vehicles (EVs) is essential in reducing greenhouse gas emissions and transitioning toward sustainable transportation. As the United States advances its sustainability goals, understanding the key drivers of EV adoption has become increasingly important for shaping effective policies and investments. Research indicates that federal incentives, such as tax credits, play a crucial role in accelerating EV adoption ([IEA, 2024](https://www.iea.org/reports/global-ev-outlook-2024/trends-in-electric-cars)). Additionally, infrastructure availability, renewable energy production, and affordability are significant factors that influence adoption rates ([IEA, 2024](https://www.iea.org/reports/global-ev-outlook-2024/trends-in-electric-cars); [EIA, 2023](https://www.eia.gov/todayinenergy/detail.php?id=56480)).\n",
    "\n",
    "### Research Question and Hypotheses\n",
    "\n",
    "Through this project, specifically, we aim to answer the following research question:\n",
    "\n",
    "- **What factors reliably predict EV registration growth across U.S. states, and how do these vary by region?**\n",
    "\n",
    "To address this, we hypothesize:\n",
    "1. **Federal Incentives:** EV registrations increase with the total number of federal incentives.\n",
    "2. **Renewable Energy Production:** EV registrations are positively correlated with a state's renewable energy production.\n",
    "\n",
    "### Variables of Interest\n",
    "\n",
    "To test these hypotheses, we analyze the following variables:\n",
    "- **Federal Incentives:** Total number of federal incentives implemented per year.\n",
    "- **Renewable Energy Production:** Cumulative renewable energy production for each state.\n",
    "- **Minimum EV Price:** The lowest EV price available each year, reflecting affordability.\n",
    "- **Charging Infrastructure:** Charging stations per capita by state, measuring accessibility.\n",
    "- **EV Registrations Per Capita:** Calculated by normalizing EV registration counts by population to ensure comparability across states.\n",
    "\n",
    "### Scope and Data Sources\n",
    "\n",
    "This analysis focuses on five states—**California, Florida, Texas, Washington, and New Jersey**—selected for their leadership in EV registrations and growth between 2016 and 2023. By narrowing our scope to these states, we aim to identify strategies that could potentially scale to other regions. The dataset integrates information from publicly available sources, including the U.S. Department of Energy's Alternative Fuels Data Center, the U.S. Energy Information Administration, Open Charge Map, and the U.S. Census Bureau. Data preprocessing included normalizing variables such as EV registrations and charging stations per capita to ensure comparability.\n",
    "\n",
    "### Findings and Implications\n",
    "\n",
    "Preliminary results suggest that **federal incentives** and **charging station availability** are the strongest predictors of EV adoption, while affordability (minimum EV price) has a smaller but statistically significant impact. Interestingly, renewable energy production does not appear to have a clear association with EV registrations in this model. These findings provide actionable insights for policymakers and stakeholders, highlighting the importance of prioritizing incentives and infrastructure investments to accelerate EV adoption.\n",
    "\n",
    "By uncovering the most influential factors driving EV growth, this project contributes to the broader effort of transitioning to cleaner, more sustainable transportation systems.\n",
    "\n"
   ]
  },
  {
   "cell_type": "markdown",
   "id": "58670269-394f-4788-a23a-cee45528ce74",
   "metadata": {},
   "source": [
    "## Data Description and Cleaning:"
   ]
  },
  {
   "cell_type": "markdown",
   "id": "ea39c381-97fa-44d9-bb54-7557b6f20c39",
   "metadata": {},
   "source": [
    "## Data Cleaning File\n",
    "You can view the complete data cleaning workflow in the following notebook:  \n",
    "[Data Cleaning Notebook on GitHub](https://github.com/kyle-du/info2950final/blob/069ac910e6cf0416bb1d4c1ef41fcb39437c3dc5/INFO2950_Phase%204_Data.ipynb)"
   ]
  },
  {
   "cell_type": "markdown",
   "id": "71c12f13-4d59-4cf4-8695-946f05986878",
   "metadata": {},
   "source": [
    "### What are the observations (rows) and the attributes (columns)?\n",
    "- **Observations**:  \n",
    "  Each row in the dataset represents a specific entity (e.g., a year-state combination for state-level EV registrations or federal incentives).  \n",
    "- **Attributes**:  \n",
    "  - **Year**  \n",
    "  - **State**  \n",
    "  - **Total EV registrations**\n",
    "  - **Total EV registrations per Capita**\n",
    "  - **Lowest EV Price of the Year**\n",
    "  - **Population (by State by Year)**\n",
    "  - **Federal Incentives Count (by year)**\n",
    "\n",
    "---\n",
    "\n",
    "### Why was this dataset created?\n",
    "The dataset was created to explore and analyze the factors influencing electric vehicle (EV) adoption across states, focusing on variables such as federal incentives, pricing, renewable energy production, and infrastructure availability. This analysis aims to provide insights into how policy and economic factors shape EV adoption trends.\n",
    "\n",
    "---\n",
    "\n",
    "### Who funded the creation of the dataset?\n",
    "The dataset compilation and underlying sources are funded by public organizations such as:\n",
    "- U.S. Department of Energy (DOE)\n",
    "- U.S. Energy Information Administration (EIA)\n",
    "- Open Charge Map\n",
    "- U.S. Census Bureau \n",
    "\n",
    "---\n",
    "\n",
    "### What processes might have influenced what data was observed and recorded, and what was not?\n",
    "- Data accuracy may vary depending on reporting standards and processes across states.  \n",
    "- External events, such as changes in data collection methods or interruptions (e.g., pandemic years), may influence what was observed or omitted.  \n",
    "\n",
    "---\n",
    "\n",
    "### What preprocessing was done, and how did the data come to be in the form that you are using?\n",
    "- The dataset was preprocessed through the following steps to ensure it was clean, consistent, and ready for analysis:\n",
    "\n",
    "- **Data Collection**:  \n",
    "  - We gathered data from multiple sources, including:\n",
    "    - **EV registrations**: U.S. Department of Energy's Alternative Fuels Data Center.\n",
    "    - **Population data**: U.S. Census Bureau datasets for 2010–2023.\n",
    "    - **Charging station data**: Open Charge Map.\n",
    "    - **Renewable energy production**: Energy Information Administration (EIA).\n",
    "    - **Federal incentives and EV pricing**: Various publicly available sources.\n",
    "\n",
    "- **Data Scraping and Cleaning**:  \n",
    "  - Some data (e.g., federal incentives) was scraped and compiled manually where necessary.\n",
    "  - Redundant or irrelevant columns were dropped, and formatting inconsistencies (e.g., commas in numeric values) were corrected.\n",
    "\n",
    "- **Population Data Preprocessing**:  \n",
    "  - Combined datasets covering 2010–2023.\n",
    "  - Filtered for the five states with the highest EV growth and registrations: **California, Florida, Texas, Washington, and New Jersey**.\n",
    "  - Reshaped the data into a long format with columns for `State`, `Year`, and `Population`.\n",
    "  - Merged population data with EV registration data to calculate EV registrations per capita.\n",
    "\n",
    "- **EV Registration Data Cleaning**:  \n",
    "  - Focused exclusively on electric vehicles, excluding other types like hybrids and biodiesel vehicles.\n",
    "  - Filtered data for the selected states and relevant years (2016–2023).\n",
    "\n",
    "- **Charging Station Data**:  \n",
    "  - Standardized the dataset to include charging stations per capita for each state and year.\n",
    "\n",
    "- **Renewable Energy and Incentives Data**:  \n",
    "  - Refined the datasets to focus on cumulative production and total federal incentives for each state by year.\n",
    "\n",
    "- **Final Dataset**:  \n",
    "  - All datasets were merged using common keys such as `State` and `Year`.\n",
    "  - Normalization steps, such as calculating EV registrations per capita and charging stations per capita, ensured comparability across states.\n",
    "\n",
    "These preprocessing steps allowed us to build a comprehensive dataset for analyzing the relationships between EV adoption and factors like federal incentives, renewable energy production, and infrastructure availability.\n",
    "\n",
    "\n",
    "\n",
    "\n",
    "\n",
    "\n",
    "\n",
    "\n",
    "---\n",
    "\n",
    "### If people are involved, were they aware of the data collection, and if so, what purpose did they expect the data to be used for?\n",
    "- As the data primarily originates from governmental agencies and public resources, individuals contributing to or represented in the data (e.g., EV owners) may not have been directly aware of its collection.  \n",
    "- Agencies and organizations were likely aware that the data would be used for research, policy evaluation, and public awareness campaigns.\n",
    "\n",
    "---\n",
    "\n",
    "### Where can your raw source data be found?  \n",
    "The raw source data is hosted online and can be accessed at the following links:  \n",
    "\n",
    "1. **Vehicle Registration Counts by State**  \n",
    "   - **Data Source**: U.S. Department of Energy - Alternative Fuels Data Center (AFDC)  \n",
    "   - **URL**: [Vehicle Registration Data](https://afdc.energy.gov/vehicle-registration?year=2023)  \n",
    "\n",
    "2. **Renewable and Total Energy Production by State**  \n",
    "   - **Data Source**: U.S. Energy Information Administration (EIA) – State Energy Data System (SEDS)  \n",
    "   - **URLs**:  \n",
    "     - [Website](https://www.eia.gov/renewable/data.php)  \n",
    "     - [Production Report PDF](https://www.eia.gov/state/seds/sep_prod/SEDS_Production_Report.pdf) (pages 18-119)  \n",
    "\n",
    "3. **EV Retail Prices by Models**  \n",
    "   - **Data Source**: U.S. Department of Energy - Office of Energy Efficiency & Renewable Energy  \n",
    "   - **URL**: [EV Pricing Data](https://www.fueleconomy.gov/feg/PowerSearch.do?action=noform&year1=2016&year2=2023&minmsrpsel=0&maxmsrpsel=0&city=0&hwy=0&comb=0&cbvtelectric=Electric&YearSel=2016-2023&make=&mclass=&vfuel=&vtype=Electric&trany=&drive=&cyl=&MpgSel=000&sortBy=Comb&Units=&url=SearchServlet&opt=new&minmsrp=0&maxmsrp=0&minmpg=0&maxmpg=0&sCharge=&tCharge=&startstop=&cylDeact=&rowLimit=200&pageno=1&tabView=0)  \n",
    "\n",
    "4. **EV Charge Stations**  \n",
    "   - **Data Source**: Open Charge Map  \n",
    "   - **URL**: [EV Charging Data](https://openchargemap.org/site/develop/api#/)  \n",
    "\n",
    "5. **Federal and State Incentives Related to Alternative Fuels and Vehicles**  \n",
    "   - **Data Source**: U.S. Department of Energy - Alternative Fuels Data Center (AFDC)  \n",
    "   - **URL**: [Federal and State Incentives Data](https://afdc.energy.gov/laws/state)\n",
    "   - The specific CSV file can be downloaded by visiting the provided URL and selecting \"Download Data\" at the bottom of the page. Once redirected, apply the following filters for each field before downloading:\n",
    "       - Dataset: \"Laws and Incentives\"\n",
    "       - Jurisdiction: \"All\"\n",
    "       - Technology: \"All-Electric Vehicles (EV)\"\n",
    "       - Incentive Type: \"All\"\n",
    "       - Regulation Type: \"All\"\n",
    "       - User Type: \"All\"\n",
    "       - File Format: \"CSV (opens in Excel)\"\n",
    "\n",
    "6. **State Population Totals**  \n",
    "   - **Data Source**: United States Census Bureau \n",
    "   - **URL**: [State Population Data (2010-2019)](https://www.census.gov/data/tables/time-series/demo/popest/2010s-state-total.html#par_textimage_1574439295) and [State Population Data (2020-2023)](https://www.census.gov/data/tables/time-series/demo/popest/2020s-state-total.html)\n",
    "   - The files can be downloaded directly from their respective pages.\n",
    "       - For population data from **2010** to **2019**, download the file titled:\n",
    "           -  Annual Estimates of the Resident Population for the United States, Regions, States, and Puerto Rico: April 1, 2010 to July 1, 2019 (NST-EST2019-01) [<1.0 MB].\n",
    "        - For population data from **2020** to **2023**, download the file titled:\n",
    "            - Annual Estimates of the Resident Population for the United States, Regions, States, District of Columbia, and Puerto Rico: April 1, 2020 to July 1, 2023 (NST-EST2023-POP) [<1.0 MB]."
   ]
  },
  {
   "cell_type": "code",
   "execution_count": 3,
   "id": "630c8c9b-c58e-4470-bc17-39e1990dd12f",
   "metadata": {},
   "outputs": [
    {
     "data": {
      "text/html": [
       "<div>\n",
       "<style scoped>\n",
       "    .dataframe tbody tr th:only-of-type {\n",
       "        vertical-align: middle;\n",
       "    }\n",
       "\n",
       "    .dataframe tbody tr th {\n",
       "        vertical-align: top;\n",
       "    }\n",
       "\n",
       "    .dataframe thead th {\n",
       "        text-align: right;\n",
       "    }\n",
       "</style>\n",
       "<table border=\"1\" class=\"dataframe\">\n",
       "  <thead>\n",
       "    <tr style=\"text-align: right;\">\n",
       "      <th></th>\n",
       "      <th>year</th>\n",
       "      <th>state</th>\n",
       "      <th>registration</th>\n",
       "      <th>population</th>\n",
       "      <th>reg_per_capita</th>\n",
       "      <th>min_price</th>\n",
       "      <th>incentives</th>\n",
       "      <th>renewable_prod</th>\n",
       "      <th>charge_stations</th>\n",
       "      <th>new_reg_per_capita</th>\n",
       "      <th>reg_rate_per_capita</th>\n",
       "      <th>charge_per_capita</th>\n",
       "    </tr>\n",
       "  </thead>\n",
       "  <tbody>\n",
       "    <tr>\n",
       "      <th>0</th>\n",
       "      <td>2017</td>\n",
       "      <td>California</td>\n",
       "      <td>189700.0</td>\n",
       "      <td>39358497</td>\n",
       "      <td>0.004820</td>\n",
       "      <td>25220.0</td>\n",
       "      <td>20</td>\n",
       "      <td>2065.200195</td>\n",
       "      <td>1721</td>\n",
       "      <td>122.464026</td>\n",
       "      <td>33.411722</td>\n",
       "      <td>4.372626</td>\n",
       "    </tr>\n",
       "    <tr>\n",
       "      <th>1</th>\n",
       "      <td>2018</td>\n",
       "      <td>California</td>\n",
       "      <td>273500.0</td>\n",
       "      <td>39461588</td>\n",
       "      <td>0.006931</td>\n",
       "      <td>25220.0</td>\n",
       "      <td>21</td>\n",
       "      <td>2771.399902</td>\n",
       "      <td>1934</td>\n",
       "      <td>212.358408</td>\n",
       "      <td>43.798365</td>\n",
       "      <td>4.900969</td>\n",
       "    </tr>\n",
       "    <tr>\n",
       "      <th>2</th>\n",
       "      <td>2019</td>\n",
       "      <td>California</td>\n",
       "      <td>349700.0</td>\n",
       "      <td>39512223</td>\n",
       "      <td>0.008850</td>\n",
       "      <td>25320.0</td>\n",
       "      <td>21</td>\n",
       "      <td>2786.600098</td>\n",
       "      <td>5592</td>\n",
       "      <td>192.851716</td>\n",
       "      <td>27.697206</td>\n",
       "      <td>14.152583</td>\n",
       "    </tr>\n",
       "    <tr>\n",
       "      <th>3</th>\n",
       "      <td>2020</td>\n",
       "      <td>California</td>\n",
       "      <td>425300.0</td>\n",
       "      <td>39503200</td>\n",
       "      <td>0.010766</td>\n",
       "      <td>29900.0</td>\n",
       "      <td>21</td>\n",
       "      <td>478.200012</td>\n",
       "      <td>6258</td>\n",
       "      <td>191.376901</td>\n",
       "      <td>21.646309</td>\n",
       "      <td>15.841755</td>\n",
       "    </tr>\n",
       "    <tr>\n",
       "      <th>4</th>\n",
       "      <td>2021</td>\n",
       "      <td>California</td>\n",
       "      <td>563100.0</td>\n",
       "      <td>39145060</td>\n",
       "      <td>0.014385</td>\n",
       "      <td>36030.0</td>\n",
       "      <td>33</td>\n",
       "      <td>1986.200073</td>\n",
       "      <td>6288</td>\n",
       "      <td>352.023985</td>\n",
       "      <td>33.611998</td>\n",
       "      <td>16.063330</td>\n",
       "    </tr>\n",
       "    <tr>\n",
       "      <th>5</th>\n",
       "      <td>2022</td>\n",
       "      <td>California</td>\n",
       "      <td>903600.0</td>\n",
       "      <td>39040616</td>\n",
       "      <td>0.023145</td>\n",
       "      <td>28100.0</td>\n",
       "      <td>46</td>\n",
       "      <td>2645.800049</td>\n",
       "      <td>6302</td>\n",
       "      <td>872.168615</td>\n",
       "      <td>60.898130</td>\n",
       "      <td>16.142163</td>\n",
       "    </tr>\n",
       "    <tr>\n",
       "      <th>6</th>\n",
       "      <td>2017</td>\n",
       "      <td>Florida</td>\n",
       "      <td>15900.0</td>\n",
       "      <td>20963613</td>\n",
       "      <td>0.000758</td>\n",
       "      <td>25220.0</td>\n",
       "      <td>20</td>\n",
       "      <td>346.700012</td>\n",
       "      <td>525</td>\n",
       "      <td>20.511731</td>\n",
       "      <td>34.779628</td>\n",
       "      <td>2.504339</td>\n",
       "    </tr>\n",
       "    <tr>\n",
       "      <th>7</th>\n",
       "      <td>2018</td>\n",
       "      <td>Florida</td>\n",
       "      <td>27400.0</td>\n",
       "      <td>21244317</td>\n",
       "      <td>0.001290</td>\n",
       "      <td>25220.0</td>\n",
       "      <td>21</td>\n",
       "      <td>527.599976</td>\n",
       "      <td>590</td>\n",
       "      <td>54.132124</td>\n",
       "      <td>70.050064</td>\n",
       "      <td>2.777213</td>\n",
       "    </tr>\n",
       "    <tr>\n",
       "      <th>8</th>\n",
       "      <td>2019</td>\n",
       "      <td>Florida</td>\n",
       "      <td>40300.0</td>\n",
       "      <td>21477737</td>\n",
       "      <td>0.001876</td>\n",
       "      <td>25320.0</td>\n",
       "      <td>21</td>\n",
       "      <td>682.200012</td>\n",
       "      <td>1433</td>\n",
       "      <td>60.062194</td>\n",
       "      <td>45.481824</td>\n",
       "      <td>6.672025</td>\n",
       "    </tr>\n",
       "    <tr>\n",
       "      <th>9</th>\n",
       "      <td>2020</td>\n",
       "      <td>Florida</td>\n",
       "      <td>58200.0</td>\n",
       "      <td>21591299</td>\n",
       "      <td>0.002696</td>\n",
       "      <td>29900.0</td>\n",
       "      <td>21</td>\n",
       "      <td>484.699982</td>\n",
       "      <td>1526</td>\n",
       "      <td>82.903766</td>\n",
       "      <td>43.657296</td>\n",
       "      <td>7.067662</td>\n",
       "    </tr>\n",
       "  </tbody>\n",
       "</table>\n",
       "</div>"
      ],
      "text/plain": [
       "   year       state  registration  population  reg_per_capita  min_price  \\\n",
       "0  2017  California      189700.0    39358497        0.004820    25220.0   \n",
       "1  2018  California      273500.0    39461588        0.006931    25220.0   \n",
       "2  2019  California      349700.0    39512223        0.008850    25320.0   \n",
       "3  2020  California      425300.0    39503200        0.010766    29900.0   \n",
       "4  2021  California      563100.0    39145060        0.014385    36030.0   \n",
       "5  2022  California      903600.0    39040616        0.023145    28100.0   \n",
       "6  2017     Florida       15900.0    20963613        0.000758    25220.0   \n",
       "7  2018     Florida       27400.0    21244317        0.001290    25220.0   \n",
       "8  2019     Florida       40300.0    21477737        0.001876    25320.0   \n",
       "9  2020     Florida       58200.0    21591299        0.002696    29900.0   \n",
       "\n",
       "   incentives  renewable_prod  charge_stations  new_reg_per_capita  \\\n",
       "0          20     2065.200195             1721          122.464026   \n",
       "1          21     2771.399902             1934          212.358408   \n",
       "2          21     2786.600098             5592          192.851716   \n",
       "3          21      478.200012             6258          191.376901   \n",
       "4          33     1986.200073             6288          352.023985   \n",
       "5          46     2645.800049             6302          872.168615   \n",
       "6          20      346.700012              525           20.511731   \n",
       "7          21      527.599976              590           54.132124   \n",
       "8          21      682.200012             1433           60.062194   \n",
       "9          21      484.699982             1526           82.903766   \n",
       "\n",
       "   reg_rate_per_capita  charge_per_capita  \n",
       "0            33.411722           4.372626  \n",
       "1            43.798365           4.900969  \n",
       "2            27.697206          14.152583  \n",
       "3            21.646309          15.841755  \n",
       "4            33.611998          16.063330  \n",
       "5            60.898130          16.142163  \n",
       "6            34.779628           2.504339  \n",
       "7            70.050064           2.777213  \n",
       "8            45.481824           6.672025  \n",
       "9            43.657296           7.067662  "
      ]
     },
     "metadata": {},
     "output_type": "display_data"
    }
   ],
   "source": [
    "# This dataset was compiled and cleaned in our separate data cleaning notebook.\n",
    "# For full citations, please refer to INFO2950_Phase_4_Data in the GitHub repository.\n",
    "# Or in the Acknowledgements and Bibliography section. \n",
    "\n",
    "# Clean, merged data file\n",
    "data = pd.read_csv('final_ev_dataset.csv')\n",
    "\n",
    "display(data.head(n=10))"
   ]
  },
  {
   "cell_type": "markdown",
   "id": "95cb3cf7-09fe-4117-b334-0c1c35c2e443",
   "metadata": {},
   "source": [
    "## Preregistration Statements: "
   ]
  },
  {
   "cell_type": "markdown",
   "id": "29fbe64e-300f-4ebe-b54a-973f89b0259b",
   "metadata": {},
   "source": [
    "<p style=\"padding-bottom: 15px;\">The following analyses aim to elucidate the impact of federal incentives and renewable energy production on EV adoption at the state level, providing insights for policymakers to design effective strategies to promote sustainable transportation.</p>"
   ]
  },
  {
   "cell_type": "markdown",
   "id": "98aa4162-f9a6-4107-95e9-855cbb5a6bfe",
   "metadata": {},
   "source": [
    "### Preregistration Statement 1\n",
    "\n",
    "- **Hypothesis**:  \n",
    "  State-level electric vehicle (EV) registrations increase with the total number of federal incentives available.\n",
    "    * $H_{0}$: ($\\beta = 0$) There is no significant relationship between EV registrations and federal incentives.\n",
    "    * $H_{A}$: ($\\beta ≠ 0$) There is a significant relationship between EV registrations and federal incentives.\n",
    "\n",
    "- **Context**:  \n",
    "  Federal incentives, such as tax credits and subsidies, are designed to reduce the upfront cost of EVs, making them more accessible to consumers. Studies have shown that these incentives significantly influence consumer purchasing decisions, leading to higher EV adoption rates. For instance, research indicates that federal tax credits have been a major driver in the growth of the EV market in the United States (Javadnejad et al., 2023).\n",
    "\n",
    "- **Analysis**:  \n",
    "  To test this hypothesis, we will run a linear regression per state with the total count of federal EV incentives as the independent variable and the total EV registrations in the state as the dependent variable. We will test whether $β > 0$ for each model and if the p-value is less than 0.05. While this wouldn't let us accept the alternative hypothesis, it would allow us to reject the null, increasing our confidence that there may be a significant relationship between EV registrations and federal incentives.\n",
    "---\n",
    "### Preregistration Statement 2\n",
    "\n",
    "- **Hypothesis**:  \n",
    "  State-level EV registrations increase with the state's renewable energy production.\n",
    "    * $H_{0}$: ($\\beta = 0$) There is no significant relationship between EV registrations and renewable energy production.\n",
    "    * $H_{A}$: ($\\beta ≠ 0$) There is a significant relationship between EV registrations and renewable energy production.\n",
    "\n",
    "- **Context**:  \n",
    "  States that produce more renewable energy may foster a culture of environmental consciousness, leading to higher EV adoption rates. Additionally, consumers in these states might prefer EVs to align with the clean energy available, reducing the overall carbon footprint of their transportation. Research has shown a correlation between renewable energy policies and increased EV adoption, suggesting that the availability of clean energy sources can influence consumer behavior (Das & Bhat, 2021).\n",
    "\n",
    "- **Analysis**:  \n",
    "  For this hypothesis, we will run a linear regression per state with the renewable energy production of the state as the independent variable and the total EV registrations in the state as the dependent variable. We will test whether $β > 0$ for each model and if the p-value is less than 0.05. While this wouldn't let us accept the alternative hypothesis, it would allow us to reject the null, increasing our confidence that there may be a significant relationship between EV registrations and renewable energy production."
   ]
  },
  {
   "cell_type": "markdown",
   "id": "a6cdced9-fe7f-4c30-8e12-ce0e070b3018",
   "metadata": {},
   "source": [
    "## Data Analysis & Evaluation of Significance: "
   ]
  },
  {
   "cell_type": "markdown",
   "id": "4fbadc74-6f14-4ca8-9f2a-4ec2f84f092f",
   "metadata": {},
   "source": [
    "### Part 1: Hypothesis 1 - Federal Incentives"
   ]
  },
  {
   "cell_type": "markdown",
   "id": "0e04804b-b323-4b4e-a6f5-ea7751ebe11f",
   "metadata": {},
   "source": [
    "State-level electric vehicle (EV) registrations increase with the total number of federal incentives available.\n",
    "\n",
    "- $H_{0}$: The coefficient for federal incentives is 0 ($\\beta = 0$), implying no significant relationship\n",
    "between the variable and the state-level EV registrations.\n",
    "\n",
    "- $H_{A}$: The coefficient for federal incentives is not 0 ($\\beta ≠ 0$), implying a significant relationship\n",
    "between the variable and the state-level EV registrations."
   ]
  },
  {
   "cell_type": "markdown",
   "id": "de5925fd-4deb-4679-8e2f-2cb024decc9f",
   "metadata": {},
   "source": [
    "#### Hypothesis 1 Analysis"
   ]
  },
  {
   "cell_type": "markdown",
   "id": "01071f37-2535-4e77-a14b-88eacb7055a6",
   "metadata": {},
   "source": [
    "Here we will build a linear regression model for federal incentives, looking at the impact of increasing federal incentives on EV adoption rates per capita in a state. We use an Ordinary Least Squares (OLS) regression model, which minimizes the sum of the squared errors to find a linear coefficient for the effect between the dependent variable (EV adoption) and the independent variable (federal incentives)."
   ]
  },
  {
   "cell_type": "code",
   "execution_count": 4,
   "id": "1d6f069e-dac4-4080-a0af-d0790587b4f8",
   "metadata": {},
   "outputs": [
    {
     "name": "stdout",
     "output_type": "stream",
     "text": [
      "                            OLS Regression Results                            \n",
      "==============================================================================\n",
      "Dep. Variable:     new_reg_per_capita   R-squared:                       0.602\n",
      "Model:                            OLS   Adj. R-squared:                  0.586\n",
      "Method:                 Least Squares   F-statistic:                     37.74\n",
      "Date:                Sat, 07 Dec 2024   Prob (F-statistic):           2.01e-06\n",
      "Time:                        20:59:59   Log-Likelihood:                -166.20\n",
      "No. Observations:                  27   AIC:                             336.4\n",
      "Df Residuals:                      25   BIC:                             339.0\n",
      "Df Model:                           1                                         \n",
      "Covariance Type:            nonrobust                                         \n",
      "==============================================================================\n",
      "                 coef    std err          t      P>|t|      [0.025      0.975]\n",
      "------------------------------------------------------------------------------\n",
      "const       -203.7527     66.575     -3.060      0.005    -340.867     -66.638\n",
      "incentives    14.1143      2.298      6.143      0.000       9.382      18.846\n",
      "==============================================================================\n",
      "Omnibus:                       21.907   Durbin-Watson:                   2.204\n",
      "Prob(Omnibus):                  0.000   Jarque-Bera (JB):               40.661\n",
      "Skew:                           1.593   Prob(JB):                     1.48e-09\n",
      "Kurtosis:                       8.099   Cond. No.                         84.7\n",
      "==============================================================================\n",
      "\n",
      "Notes:\n",
      "[1] Standard Errors assume that the covariance matrix of the errors is correctly specified.\n"
     ]
    }
   ],
   "source": [
    "# Train, Test split\n",
    "train, test = train_test_split(\n",
    "    data, \n",
    "    test_size=0.1, \n",
    "    random_state=2950\n",
    ")\n",
    "\n",
    "# Train data\n",
    "X_train_ps1 = train[['incentives']] \n",
    "X_train_ps1 = sm.add_constant(X_train_ps1) \n",
    "y_train_ps1 = train['new_reg_per_capita']\n",
    "\n",
    "# Fit model\n",
    "model_ps1 = sm.OLS(y_train_ps1, X_train_ps1)\n",
    "results = model_ps1.fit()\n",
    "\n",
    "print(results.summary())"
   ]
  },
  {
   "cell_type": "markdown",
   "id": "40f13480-45da-4467-bcfe-864277eb644e",
   "metadata": {},
   "source": [
    "The coefficient is 14.113, interpreting this coefficient gives us an estimated increase of ~14 EV registrations per year per 100k people for each federal incentive. The main outliers of this would be California and Texas which have extreme values for EV registrations without much responsive change to federal incentives. Florida also experiences less EV registration change relative to federal incentives, which could signify that Florida's dataset is an outlier. The residual plot seems to show heteroskedasticity, which we will discuss more in limitations."
   ]
  },
  {
   "cell_type": "code",
   "execution_count": 5,
   "id": "dfd49a8c-3da5-47bb-abf0-a1de7d603006",
   "metadata": {},
   "outputs": [
    {
     "data": {
      "text/plain": [
       "6     -58.022324\n",
       "28    -51.465100\n",
       "0      43.929971\n",
       "19    -63.307172\n",
       "1     119.710016\n",
       "dtype: float64"
      ]
     },
     "metadata": {},
     "output_type": "display_data"
    },
    {
     "data": {
      "image/png": "[encoded data removed]",
      "text/plain": [
       "<Figure size 640x480 with 1 Axes>"
      ]
     },
     "metadata": {},
     "output_type": "display_data"
    }
   ],
   "source": [
    "# Test data\n",
    "X_test_ps1 = test[['incentives']] \n",
    "X_test_ps1 = sm.add_constant(X_test_ps1)\n",
    "y_test_ps1 = test['new_reg_per_capita']\n",
    "\n",
    "# Make predictions\n",
    "train_pred_ps1 = results.predict(X_train_ps1)\n",
    "test_pred_ps1 = results.predict(X_test_ps1)\n",
    "\n",
    "# Residuals\n",
    "residuals_ps1 = y_train_ps1 - train_pred_ps1\n",
    "display(residuals_ps1.head())\n",
    "\n",
    "# Residual Plot\n",
    "def residual_plot(pred, resid):\n",
    "    plt.scatter(pred, resid, marker='o')\n",
    "    plt.axhline(y=0, color='red')\n",
    "    plt.xlabel('Predicted Values')\n",
    "    plt.ylabel('Residuals') \n",
    "    plt.show()\n",
    "\n",
    "residual_plot(train_pred_ps1, residuals_ps1)"
   ]
  },
  {
   "cell_type": "code",
   "execution_count": 6,
   "id": "d2d6f4b5-626d-4eba-8d19-e4915b411e50",
   "metadata": {},
   "outputs": [
    {
     "data": {
      "image/png": "[encoded data removed]",
      "text/plain": [
       "<Figure size 640x480 with 1 Axes>"
      ]
     },
     "metadata": {},
     "output_type": "display_data"
    }
   ],
   "source": [
    "bootstrapped_states = list()\n",
    "for i in range(100):\n",
    "    bootstrapped_sample = data.sample(n=25, replace=True)\n",
    "    bootstrapped_states.append(bootstrapped_sample)\n",
    "\n",
    "domain = np.arange(11, 51).reshape(-1, 1)\n",
    "\n",
    "for i in range(100):\n",
    "    df = bootstrapped_states[i]\n",
    "\n",
    "    bt_model = LinearRegression().\\\n",
    "    fit(df[[\"incentives\"]].values, df[\"new_reg_per_capita\"].values)\n",
    "    y_pred = bt_model.predict(domain)\n",
    "    sns.lineplot(x=domain.\\\n",
    "                 reshape(-1), y=y_pred, color=\"lightgreen\", alpha=0.3)\n",
    "\n",
    "# Given code\n",
    "plt.xlabel(\"Federal Incentives\")\n",
    "plt.ylabel(\"EV Registration Rate Per Capita\")\n",
    "plt.show()"
   ]
  },
  {
   "cell_type": "markdown",
   "id": "d4cc380e-43e5-4aa7-8862-965dad0fbc0a",
   "metadata": {},
   "source": [
    "#### Hypothesis 1 Evaluation of Significance"
   ]
  },
  {
   "cell_type": "markdown",
   "id": "fbd47632-7db8-48d3-ac0b-5ee97495a7b0",
   "metadata": {},
   "source": [
    "The lines indicate the relationship between the independent variable (Federal Incentives) and the dependent variable (New Registrations Per Capita). The fact that most lines slope upwards suggests a positive relationship between the two variables, meaning higher federal incentives are generally associated with more registrations per capita.\n",
    "\n",
    "The coefficient is more stable around 15-30 federal incentives, suggesting that our model may be more inaccurate for predicting the effect of a large amount of federal incentives on EV adoption."
   ]
  },
  {
   "cell_type": "markdown",
   "id": "85bfe3c9-936d-4667-80c7-76a9aa826089",
   "metadata": {},
   "source": [
    "### Part 2: Hypothesis 2 - Renewable Energy Production"
   ]
  },
  {
   "cell_type": "markdown",
   "id": "96a64efd-5965-4e01-a293-33e71208e0f3",
   "metadata": {},
   "source": [
    "#### Hypothesis 2 Analysis"
   ]
  },
  {
   "cell_type": "markdown",
   "id": "ff98f1d6-0351-47cb-80ad-20fc651c0545",
   "metadata": {},
   "source": [
    "#### Hypothesis 2 Evaluation of Significance"
   ]
  },
  {
   "cell_type": "code",
   "execution_count": 10,
   "id": "0d5a4ca4-7d6c-42c4-829a-c2f9adf72194",
   "metadata": {},
   "outputs": [
    {
     "name": "stdout",
     "output_type": "stream",
     "text": [
      "                            OLS Regression Results                            \n",
      "==============================================================================\n",
      "Dep. Variable:     new_reg_per_capita   R-squared:                       0.016\n",
      "Model:                            OLS   Adj. R-squared:                 -0.024\n",
      "Method:                 Least Squares   F-statistic:                    0.3962\n",
      "Date:                Thu, 21 Nov 2024   Prob (F-statistic):              0.535\n",
      "Time:                        23:53:23   Log-Likelihood:                -178.41\n",
      "No. Observations:                  27   AIC:                             360.8\n",
      "Df Residuals:                      25   BIC:                             363.4\n",
      "Df Model:                           1                                         \n",
      "Covariance Type:            nonrobust                                         \n",
      "==================================================================================\n",
      "                     coef    std err          t      P>|t|      [0.025      0.975]\n",
      "----------------------------------------------------------------------------------\n",
      "const            194.4449     42.165      4.612      0.000     107.604     281.286\n",
      "renewable_prod    -0.0047      0.007     -0.629      0.535      -0.020       0.011\n",
      "==============================================================================\n",
      "Omnibus:                       29.054   Durbin-Watson:                   2.066\n",
      "Prob(Omnibus):                  0.000   Jarque-Bera (JB):               58.482\n",
      "Skew:                           2.240   Prob(JB):                     2.00e-13\n",
      "Kurtosis:                       8.649   Cond. No.                     6.69e+03\n",
      "==============================================================================\n",
      "\n",
      "Notes:\n",
      "[1] Standard Errors assume that the covariance matrix of the errors is correctly specified.\n",
      "[2] The condition number is large, 6.69e+03. This might indicate that there are\n",
      "strong multicollinearity or other numerical problems.\n"
     ]
    },
    {
     "data": {
      "text/plain": [
       "6    -172.315146\n",
       "28     16.507584\n",
       "0     -62.342716\n",
       "19    -91.849078\n",
       "1      30.847457\n",
       "dtype: float64"
      ]
     },
     "metadata": {},
     "output_type": "display_data"
    },
    {
     "data": {
      "image/png": "[encoded data removed]",
      "text/plain": [
       "<Figure size 640x480 with 1 Axes>"
      ]
     },
     "metadata": {},
     "output_type": "display_data"
    }
   ],
   "source": [
    "# Train data\n",
    "X_train_ps2 = train[['renewable_prod']] \n",
    "X_train_ps2 = sm.add_constant(X_train_ps2) \n",
    "y_train_ps2 = train['new_reg_per_capita']\n",
    "\n",
    "# Fit model\n",
    "model_ps2 = sm.OLS(y_train_ps2, X_train_ps2)\n",
    "results = model_ps2.fit()\n",
    "\n",
    "print(results.summary())\n",
    "\n",
    "# Test data\n",
    "X_test_ps2 = test[['renewable_prod']] \n",
    "X_test_ps2 = sm.add_constant(X_test_ps2)\n",
    "y_test_ps2 = test['new_reg_per_capita']\n",
    "\n",
    "# Make predictions\n",
    "train_pred_ps2 = results.predict(X_train_ps2)\n",
    "test_pred_ps2 = results.predict(X_test_ps2)\n",
    "\n",
    "# Residuals\n",
    "residuals_ps2 = y_train_ps2 - train_pred_ps2\n",
    "display(residuals_ps2.head())\n",
    "\n",
    "# Residual Plot\n",
    "residual_plot(train_pred_ps2, residuals_ps2)"
   ]
  },
  {
   "cell_type": "markdown",
   "id": "1658479c-ce9d-4e2a-8235-eb8d93b9eb0a",
   "metadata": {},
   "source": [
    "The coefficient for renewable energy production is -0.0047, which suggests that for each one-unit increase in renewable energy production, the model predicts a decrease of approximately 0.0047 new EV registrations per capita. This indicates that renewable energy production has a very small, negative effect on the number of new EV registrations per capita. However, this coefficient is not statistically significant (p-value = 0.535), meaning that the relationship between renewable energy production and EV registrations is likely not meaningful or reliable in this context.\n",
    "\n",
    "The intercept coefficient is 194.4449, which represents the expected number of new EV registrations per capita when renewable energy production is zero. While this value might appear large, it's important to remember that the coefficient is an estimate under the assumption of no renewable energy production, which doesn't reflect a realistic scenario, but provides a baseline for the model.\n",
    "\n",
    "The R-squared value is 0.016, meaning the model explains only about 1.6% of the variance in the number of new EV registrations per capita. This is a very low R-squared, indicating that the model does not do a good job of explaining the variation in the dependent variable, which means this variable is likely not a good indicator to include.\n",
    "\n",
    "The residual plot suggests some potential heteroskedasticity, as the spread of residuals seems to increase with the level of fitted values. This indicates that the variance of the errors may not be constant across all levels of the independent variable. We will discuss this issue in the limitations section."
   ]
  },
  {
   "cell_type": "code",
   "execution_count": 7,
   "id": "04d8e8d3-5abe-4c92-865b-7ee622427be5",
   "metadata": {},
   "outputs": [
    {
     "data": {
      "image/png": "[encoded data removed]",
      "text/plain": [
       "<Figure size 640x480 with 1 Axes>"
      ]
     },
     "metadata": {},
     "output_type": "display_data"
    }
   ],
   "source": [
    "bootstrapped_states = list()\n",
    "for i in range(100):\n",
    "    bootstrapped_sample = data.sample(n=25, replace=True)\n",
    "    bootstrapped_states.append(bootstrapped_sample)\n",
    "\n",
    "domain = np.arange(11, 51).reshape(-1, 1)\n",
    "\n",
    "for i in range(100):\n",
    "    df = bootstrapped_states[i]\n",
    "\n",
    "    bt_model = LinearRegression().\\\n",
    "    fit(df[[\"renewable_prod\"]].values, df[\"new_reg_per_capita\"].values)\n",
    "    y_pred = bt_model.predict(domain)\n",
    "    sns.lineplot(x=domain.\\\n",
    "                 reshape(-1), y=y_pred, color=\"lightgreen\", alpha=0.3)\n",
    "\n",
    "# Given code\n",
    "plt.xlabel(\"Renewable Energy Production\")\n",
    "plt.ylabel(\"EV Registration Rate Per Capita\")\n",
    "plt.show()"
   ]
  },
  {
   "cell_type": "markdown",
   "id": "931dfd4c-a23e-4c0b-b9b2-20e1976b05ed",
   "metadata": {},
   "source": [
    "The slope is near 0 for all bootstrapped samples, suggesting no significant relationship between renewable energy production and EV registration per capita."
   ]
  },
  {
   "cell_type": "markdown",
   "id": "bb6b5cf9-6012-478b-a3a4-6b5dc0f17102",
   "metadata": {},
   "source": [
    "### Part 3: Overall Multivariate Regression Model\n",
    "\n",
    "$H_{0}$ : None of the predictor variables is useful in terms of predicting the EV registration (~adoption) rate.\n",
    "- $EV\\_Registration_{st} = \\beta_0 + \\beta_1 Min\\_Price_t + \\beta_2 Federal\\_Incentive_t + \\beta_3 Renewable\\_Production_{st} + \\beta_4 Charge\\_Stations_{st} + \\alpha_s + \\lambda_t + \\epsilon_{st}$\n",
    "\n",
    "<br>\n",
    "\n",
    "$H_{A}$ : At least one of the predictor variables (minimum price, federal incentives, charging stations, renewable energy production) is useful in terms of predicting the state-level EV registration rates.\n",
    "- $\\beta_i ≠ 0$ (where i ~ [1, 4])"
   ]
  },
  {
   "cell_type": "markdown",
   "id": "f9328a90-3a05-4575-a842-881b36d1f604",
   "metadata": {},
   "source": [
    "#### Part 3 Analysis"
   ]
  },
  {
   "cell_type": "code",
   "execution_count": null,
   "id": "fb31e0c2-0562-42b4-9de5-db9bf56b3090",
   "metadata": {},
   "outputs": [],
   "source": []
  },
  {
   "cell_type": "code",
   "execution_count": 8,
   "id": "aaeb28b1-1d30-4909-8048-ffdc76a15e17",
   "metadata": {},
   "outputs": [],
   "source": [
    "data = data.set_index(['state', 'year'])"
   ]
  },
  {
   "cell_type": "code",
   "execution_count": 9,
   "id": "7f5149ec-7df1-4b58-8fa7-7bdf426f44e8",
   "metadata": {},
   "outputs": [
    {
     "name": "stdout",
     "output_type": "stream",
     "text": [
      "                          PanelOLS Estimation Summary                           \n",
      "================================================================================\n",
      "Dep. Variable:     new_reg_per_capita   R-squared:                        0.8555\n",
      "Estimator:                   PanelOLS   R-squared (Between):              0.6289\n",
      "No. Observations:                  30   R-squared (Within):               0.8555\n",
      "Date:                Thu, Nov 21 2024   R-squared (Overall):              0.8020\n",
      "Time:                        23:48:23   Log-likelihood                   -164.29\n",
      "Cov. Estimator:            Unadjusted                                           \n",
      "                                        F-statistic:                      31.081\n",
      "Entities:                           5   P-value                           0.0000\n",
      "Avg Obs:                       6.0000   Distribution:                    F(4,21)\n",
      "Min Obs:                       6.0000                                           \n",
      "Max Obs:                       6.0000   F-statistic (robust):             31.081\n",
      "                                        P-value                           0.0000\n",
      "Time periods:                       6   Distribution:                    F(4,21)\n",
      "Avg Obs:                       5.0000                                           \n",
      "Min Obs:                       5.0000                                           \n",
      "Max Obs:                       5.0000                                           \n",
      "                                                                                \n",
      "                                 Parameter Estimates                                 \n",
      "=====================================================================================\n",
      "                   Parameter  Std. Err.     T-stat    P-value    Lower CI    Upper CI\n",
      "-------------------------------------------------------------------------------------\n",
      "const                 5.6894     99.527     0.0572     0.9550     -201.29      212.67\n",
      "min_price            -0.0103     0.0041    -2.5385     0.0191     -0.0187     -0.0019\n",
      "incentives            14.804     1.6431     9.0099     0.0000      11.387      18.221\n",
      "renewable_prod       -0.0077     0.0054    -1.4377     0.1653     -0.0188      0.0034\n",
      "charge_per_capita     11.006     5.4518     2.0188     0.0565     -0.3315      22.344\n",
      "=====================================================================================\n",
      "\n",
      "F-test for Poolability: 3.2694\n",
      "P-value: 0.0312\n",
      "Distribution: F(4,21)\n",
      "\n",
      "Included effects: Entity\n"
     ]
    }
   ],
   "source": [
    "input_var = ['min_price', 'incentives', 'renewable_prod', 'charge_per_capita']\n",
    "# input_var = ['min_price', 'incentives', 'renewable_prod', 'charge_stations']\n",
    "\n",
    "X = data[input_var]\n",
    "X = sm.add_constant(X)\n",
    "\n",
    "# Per Capita\n",
    "y = data['new_reg_per_capita'] # Option 1\n",
    "# y = data['reg_rate_per_capita']\n",
    "# y = data['reg_per_capita'] # Option 2\n",
    "# y = data['registration']\n",
    "\n",
    "# Fit PanelOLS with fixed effects\n",
    "model = PanelOLS(y, X, entity_effects=True).fit()\n",
    "print(model.summary)"
   ]
  },
  {
   "cell_type": "markdown",
   "id": "365c091d-3165-43af-acc6-183cbd0720b9",
   "metadata": {},
   "source": [
    "**Interpretation of Coefficients**\n",
    "- $\\beta_0$ (const): The constant term is not statistically significant (p=0.955) and does not provide any meaningful insight into EV registrations per capita when all other variables are held constant. The interpretation of this coefficient would be that if the minimum price was 0, there were no federal incentives, no renewable energy production, and no charge stations, then the predicted rate of EV adoption per 100k people is 5.6 per year. While this scenario doesn't make logical sense, it provides a baseline for our model.\n",
    "- $\\beta_1$ (min_price): A decrease in the minimum EV price is statistically significant (p=0.019) and is associated with an increase in EV registrations per capita. However, the effect size is very small: for every unit decrease in the minimum EV price, annual new registrations increase by approximately 0.0103 per 100k people.\n",
    "- $\\beta_2$ (incentives): Federal EV incentives are highly significant (p=0.000) and positively correlated with EV registrations per capita. For each additional federal incentive, annual new registrations increase by approximately 15 per 100k people.\n",
    "- $\\beta_3$ (renewable_prod): Renewable energy production is not statistically significant (p=0.165) in predicting EV registrations per capita, indicating no clear evidence of an association in this model.\n",
    "- $\\beta_4$ (charge_stations): Charging stations per capita are marginally significant (p=0.056). This suggests that an increase in charging stations can lead to a slight rise in EV registrations per capita. For every unit increase in charging stations per 100k people, annual new registrations increase by approximately 11 per 100k people."
   ]
  },
  {
   "cell_type": "markdown",
   "id": "8a5bfc80-9799-468a-a38d-823d5cfe648e",
   "metadata": {},
   "source": [
    "## Conclusions: "
   ]
  },
  {
   "cell_type": "markdown",
   "id": "3d647baf-3a0c-4584-9fb5-2ce773411aec",
   "metadata": {},
   "source": [
    "Our analysis of EV adoption across five states—California, Florida, Texas, Washington, and New Jersey—reveals key factors driving growth. Federal incentives show a strong positive impact, with each additional incentive increasing registrations by about 15 per 100,000 people (p=0.000). Affordability also matters, as lower EV prices are linked to higher registrations (p=0.019), though the effect is small. Charging stations play a role as well, with a marginally significant increase of about 11 registrations per 100,000 people for each additional station (p=0.056). However, renewable energy production showed no significant effect on EV adoption (p=0.165). These findings highlight the importance of incentives and infrastructure in driving EV adoption.\n"
   ]
  },
  {
   "cell_type": "markdown",
   "id": "584d6ccb-fd07-4375-8f0c-010b15aefe55",
   "metadata": {},
   "source": [
    "## Limitations: "
   ]
  },
  {
   "cell_type": "markdown",
   "id": "f50c9713-7cc6-452a-8810-64624368bfc9",
   "metadata": {},
   "source": [
    "Geographic and Temporal Scope:\n",
    "Our analysis focuses on five states: California, Florida, Texas, Washington, and New Jersey. While these states lead in EV registrations, their characteristics may not generalize to all U.S. states.\n",
    "The time frame (2016–2023) may exclude earlier trends or emerging policies that influence EV adoption.\n",
    "\n",
    "Data Gaps and Representation:\n",
    "Some variables, like renewable energy production and charging station counts, may not fully represent the nuanced factors influencing EV adoption. For example, renewable energy production does not account for how much of that energy is directly used for EV charging.\n",
    "Federal incentives data is cumulative but does not differentiate between varying levels of effectiveness across states or time.\n",
    "\n",
    "Normalization and Transformation Limitations:\n",
    "The effect sizes of certain predictors (e.g., minimum EV price) were statistically significant but practically small, suggesting potential issues with scaling or data granularity.\n",
    "The residual plots also suggest varying levels of residual spread across fitted values, which could indicate heteroskedasticity. This violates one of the key assumptions of linear regression, potentially leading to biased standard errors and unreliable ppp-values. In the next stage, we will consider using log-transformation to smooth the data."
   ]
  },
  {
   "cell_type": "markdown",
   "id": "5036cd31-9b40-4510-b960-b535205bed83",
   "metadata": {},
   "source": [
    "## Acknowledgements and Bibliography: "
   ]
  },
  {
   "cell_type": "markdown",
   "id": "198cbcf3-b0f1-4146-afd8-f4c9553e510e",
   "metadata": {},
   "source": [
    "**<h4>Current Notebook</h4>**\n",
    "\n",
    "<p style=\"padding-left: 40px; text-indent: -40px;\">\n",
    "Das, P.K., & Bhat, M.Y. (2021). Renewable energy policies and EV adoption. <i>Environmental Science and Pollution Research</i>. Retrieved from <a href=\"https://link.springer.com/article/10.1007/s11356-021-18211-w\">https://link.springer.com/article/10.1007/s11356-021-18211-w</a>\n",
    "</p>\n",
    "\n",
    "<p style=\"padding-left: 40px; text-indent: -40px;\">\n",
    "Javadnejad, R., et al. (2023). Federal tax credits and EV adoption. <i>Environment, Development and Sustainability</i>. Retrieved from <a href=\"https://link.springer.com/article/10.1007/s10669-023-09958-3\">https://link.springer.com/article/10.1007/s10669-023-09958-3</a>\n",
    "</p>\n",
    "\n",
    "---\n",
    "\n",
    "**<h4>Data Cleaning Notebook (INFO2950_Phase_4_Data)</h4>**\n",
    "\n",
    "<p style=\"padding-left: 40px; text-indent: -40px;\">\n",
    "    Federal Highway Administration. (2023, March 14). <i>Biden-Harris Administration opens applications for first round of $2.5 billion program to build EV charging infrastructure</i>. Retrieved from <a href=\"https://highways.dot.gov/newsroom/biden-harris-administration-opens-applications-first-round-25-billion-program-build-ev\">https://highways.dot.gov/newsroom/biden-harris-administration-opens-applications-first-round-25-billion-program-build-ev</a>\n",
    "</p>\n",
    "\n",
    "<p style=\"padding-left: 40px; text-indent: -40px;\">\n",
    "    Federal Highway Administration. (n.d.). <i>Fixing America's Surface Transportation Act or \"FAST Act\"</i>. Retrieved from <a href=\"https://ops.fhwa.dot.gov/fastact/#:~:text=Fixing%20America's%20Surface%20Transportation%20Act%20or%20%22FAST%20Act%22&text=On%20December%204%2C%202015%2C%20President,funding%20certainty%20for%20surface%20transportation.\">https://ops.fhwa.dot.gov/fastact/#:~:text=Fixing%20America's%20Surface%20Transportation%20Act%20or%20\"FAST Act\"</a>\n",
    "</p>\n",
    "\n",
    "<p style=\"padding-left: 40px; text-indent: -40px;\">\n",
    "    Joint Office of Energy and Transportation (2023, September 21). <i>EV Charger Reliability and Accessibility Accelerator Webinar</i>. Retrieved from <a href=\"https://driveelectric.gov/webinars/ev-charger-reliability-accessibility-accelerator\">https://driveelectric.gov/webinars/ev-charger-reliability-accessibility-accelerator</a>\n",
    "</p>\n",
    "\n",
    "<p style=\"padding-left: 40px; text-indent: -40px;\">\n",
    "    National Renewable Energy Laboratory. (n.d.). <i>American Made Program 5-Year Report</i>. Retrieved from <a href=\"https://americanmadechallenges.org/American-Made-Program-5-Year-Report.pdf\">https://americanmadechallenges.org/American-Made-Program-5-Year-Report.pdf</a>\n",
    "</p>\n",
    "\n",
    "<p style=\"padding-left: 40px; text-indent: -40px;\">\n",
    "    Open Charge Map. (2024). <i>Open Charge Map API</i>. Retrieved November 20, 2024, from <a href=\"https://openchargemap.org/site/develop/api\">https://openchargemap.org/site/develop/api</a>\n",
    "</p>\n",
    "\n",
    "<p style=\"padding-left: 40px; text-indent: -40px;\">\n",
    "U.S. Census Bureau, Population Division. (2019). Annual Estimates of the Resident Population for the United States, Regions, States, and Puerto Rico: April 1, 2010 to July 1, 2019 (NST-EST2019-01) [Data file]. Retrieved from <a href=\"https://www2.census.gov/programs-surveys/popest/tables/2010-2019/state/totals/nst-est2019-01.xlsx\">https://www2.census.gov/programs-surveys/popest/tables/2010-2019/state/totals/nst-est2019-01.xlsx>\n",
    "</p>\n",
    "\n",
    "<p style=\"padding-left: 40px; text-indent: -40px;\">\n",
    "    U.S. Census Bureau, Population Division. (2023). <i>Annual Estimates of the Resident Population for the United States, Regions, States, District of Columbia, and Puerto Rico: April 1, 2020 to July 1, 2023 (NST-EST2023-POP) [Data file]</i>. Retrieved from <a href=\"https://www2.census.gov/programs-surveys/popest/tables/2020-2023/state/totals/NST-EST2023-POP.xlsx\">https://www2.census.gov/programs-surveys/popest/tables/2020-2023/state/totals/NST-EST2023-POP.xlsx</a>\n",
    "</p>\n",
    "\n",
    "<p style=\"padding-left: 40px; text-indent: -40px;\">\n",
    "    U.S. Department of Agriculture. (2022). <i>EV Charging Stations Fact Sheet</i>. Retrieved from <a href=\"https://www.rd.usda.gov/sites/default/files/508_RD_FS_71EVChargingStations.pdf\">https://www.rd.usda.gov/sites/default/files/508_RD_FS_71EVChargingStations.pdf</a>\n",
    "</p>\n",
    "\n",
    "<p style=\"padding-left: 40px; text-indent: -40px;\">\n",
    "    U.S. Department of Energy. (2023). <i>Alternative Fuels Data Center: Vehicle Registration Data</i>. Retrieved from <a href=\"https://afdc.energy.gov/vehicle-registration?year=2023\">https://afdc.energy.gov/vehicle-registration?year=2023</a>\n",
    "</p>\n",
    "\n",
    "<p style=\"padding-left: 40px; text-indent: -40px;\">\n",
    "    U.S. Department of Energy. (2023). <i>Domestic Manufacturing Conversion Grants</i>. Retrieved from <a href=\"https://www.energy.gov/mesc/domestic-manufacturing-conversion-grants\">https://www.energy.gov/mesc/domestic-manufacturing-conversion-grants</a>\n",
    "</p>\n",
    "\n",
    "<p style=\"padding-left: 40px; text-indent: -40px;\">\n",
    "    U.S. Department of Energy. (n.d.). <i>Find and Compare Cars</i>. Retrieved from <a href=\"https://www.fueleconomy.gov/feg/PowerSearch.do?action=noform&year1=2016&year2=2023&minmsrpsel=0&maxmsrpsel=0&city=0&hwy=0&comb=0&cbvtelectric=Electric&YearSel=2016-2023&make=&mclass=&vfuel=&vtype=Electric&trany=&drive=&cyl=&MpgSel=000&sortBy=Comb&Units=&url=SearchServlet&opt=new&minmsrp=0&maxmsrp=0&minmpg=0&maxmpg=0&sCharge=&tCharge=&startstop=&cylDeact=&rowLimit=200&pageno=1&tabView=0\">https://www.fueleconomy.gov/feg/PowerSearch.do?action=noform&year1=2016&year2=2023</a>\n",
    "</p>\n",
    "\n",
    "<p style=\"padding-left: 40px; text-indent: -40px;\">\n",
    "    U.S. Department of Energy, Office of Energy Efficiency & Renewable Energy. (2024). <i>Alternative Fuels Data Center: Data Download [Data file]</i>. Retrieved November 20, 2024, from <a href=\"https://afdc.energy.gov/data_download\">https://afdc.energy.gov/data_download</a>\n",
    "</p>\n",
    "\n",
    "<p style=\"padding-left: 40px; text-indent: -40px;\">\n",
    "    U.S. Department of Transportation. (n.d.). <i>Resilient Surface Transportation Grants</i>. Retrieved from <a href=\"https://www.transit.dot.gov/grants?combine=Resilient+Surface+Transportation+Grants&field_grant_type_target_id=All\">https://www.transit.dot.gov/grants?combine=Resilient+Surface+Transportation+Grants&field_grant_type_target_id=All</a>\n",
    "</p>\n",
    "\n",
    "<p style=\"padding-left: 40px; text-indent: -40px;\">\n",
    "    U.S. Energy Information Administration. (n.d.). <i>State Energy Data System (SEDS): 1960-2021 (Complete) [Data file]</i>. Retrieved from <a href=\"https://www.eia.gov/state/seds/sep_prod/SEDS_Production_Report.pdf\">https://www.eia.gov/state/seds/sep_prod/SEDS_Production_Report.pdf</a>\n",
    "</p>\n",
    "\n",
    "<p style=\"padding-left: 40px; text-indent: -40px;\">\n",
    "    U.S. Environmental Protection Agency. (2022). <i>Bipartisan Infrastructure Law Clean School Bus Program: Initial Implementation Report to Congress</i>. Retrieved from <a href=\"https://nepis.epa.gov/Exe/ZyPDF.cgi?Dockey=P1014098.pdf\">https://nepis.epa.gov/Exe/ZyPDF.cgi?Dockey=P1014098.pdf</a>\n",
    "</p>\n",
    "\n",
    "<p style=\"padding-left: 40px; text-indent: -40px;\">\n",
    "    U.S. Environmental Protection Agency. (2024, April 24). <i>Biden-Harris Administration announces nearly $1 billion in grants to invest in America's clean energy future</i>. Retrieved from <a href=\"https://www.epa.gov/newsreleases/biden-harris-administration-announces-nearly-1-billion-grants-invest-americas-clean-0\">https://www.epa.gov/newsreleases/biden-harris-administration-announces-nearly-1-billion-grants-invest-americas-clean-0</a>\n",
    "</p>\n",
    "\n",
    "<p style=\"padding-left: 40px; text-indent: -40px;\">\n",
    "    WE ACT for Environmental Justice. (2023). <i>TCTAC</i>. Retrieved from <a href=\"https://www.weact.org/tctac/\">https://www.weact.org/tctac/</a>\n",
    "</p>\n",
    "\n",
    "<p style=\"padding-left: 40px; text-indent: -40px;\">\n",
    "    Western Interstate Energy Board. (n.d.). <i>Western Interstate Energy Board supports continued funding for the U.S. Department of Energy State Energy Program (SEP)</i>. Retrieved from <a href=\"https://www.westernenergyboard.org/western-interstate-energy-board-supports-continued-funding-for-the-u-s-department-of-energy-state-energy-program-sep/\">https://www.westernenergyboard.org/western-interstate-energy-board-supports-continued-funding-for-the-u-s-department-of-energy-state-energy-program-sep/</a>\n",
    "</p>\n",
    "\n",
    "\n",
    "\n",
    "\n"
   ]
  }
 ],
 "metadata": {
  "kernelspec": {
   "display_name": "Python 3 (ipykernel)",
   "language": "python",
   "name": "python3"
  },
  "language_info": {
   "codemirror_mode": {
    "name": "ipython",
    "version": 3
   },
   "file_extension": ".py",
   "mimetype": "text/x-python",
   "name": "python",
   "nbconvert_exporter": "python",
   "pygments_lexer": "ipython3",
   "version": "3.12.3"
  }
 },
 "nbformat": 4,
 "nbformat_minor": 5
}
