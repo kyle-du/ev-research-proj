{
 "cells": [
  {
   "cell_type": "markdown",
   "id": "326aa8d3-cb92-4e9c-a86e-1325f45c0139",
   "metadata": {},
   "source": [
    "## Research Questions: "
   ]
  },
  {
   "cell_type": "markdown",
   "id": "4bef32d1-fd35-499e-8f8e-e69af3c8abed",
   "metadata": {},
   "source": [
    "## Data Descriptions:"
   ]
  },
  {
   "cell_type": "markdown",
   "id": "fd915ae2-6f72-4df0-adb4-925ff7922a5b",
   "metadata": {},
   "source": [
    "## Importing:"
   ]
  },
  {
   "cell_type": "code",
   "execution_count": 6,
   "id": "89b80697-cff2-4ac5-9a26-0ff708ce5749",
   "metadata": {},
   "outputs": [],
   "source": [
    "import numpy as np \n",
    "import pandas as pd \n",
    "import seaborn as sns \n",
    "import matplotlib.pyplot as plt \n",
    "import requests\n",
    "from bs4 import BeautifulSoup\n",
    "import os"
   ]
  },
  {
   "cell_type": "markdown",
   "id": "72201eac-5604-4b3a-87b9-4adba12a3fe2",
   "metadata": {},
   "source": [
    "## Data Cleaning:"
   ]
  },
  {
   "cell_type": "markdown",
   "id": "1f5626dc-5897-4a92-b3b7-724cebc8de61",
   "metadata": {},
   "source": [
    "## Data Limitations:"
   ]
  },
  {
   "cell_type": "markdown",
   "id": "3b9212e3-ad9a-4ab1-9315-a10f34e034f4",
   "metadata": {},
   "source": [
    "## Exploratory Data Analysis: "
   ]
  },
  {
   "cell_type": "markdown",
   "id": "557e6170-5d9c-4271-897b-657036aedd8b",
   "metadata": {},
   "source": [
    "## Questions For Reviewers: "
   ]
  }
 ],
 "metadata": {
  "kernelspec": {
   "display_name": "Python 3 (ipykernel)",
   "language": "python",
   "name": "python3"
  },
  "language_info": {
   "codemirror_mode": {
    "name": "ipython",
    "version": 3
   },
   "file_extension": ".py",
   "mimetype": "text/x-python",
   "name": "python",
   "nbconvert_exporter": "python",
   "pygments_lexer": "ipython3",
   "version": "3.12.2"
  }
 },
 "nbformat": 4,
 "nbformat_minor": 5
}
