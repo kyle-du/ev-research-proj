{
 "cells": [
  {
   "cell_type": "markdown",
   "id": "016c159e-b066-4868-a6ff-8edc81f42442",
   "metadata": {},
   "source": [
    "# **INFO 2950 Final Project - Phase II**"
   ]
  },
  {
   "cell_type": "markdown",
   "id": "591bcc1d-3631-48a3-841d-e90025b13f84",
   "metadata": {},
   "source": [
    "## Research Questions: "
   ]
  },
  {
   "cell_type": "markdown",
   "id": "7a0dd220-691e-45d6-97ea-04c73973cd51",
   "metadata": {},
   "source": [
    "## Data Descriptions: "
   ]
  },
  {
   "cell_type": "markdown",
   "id": "6d0dc360-0a55-4adf-bbaa-5ae11ef50fa7",
   "metadata": {},
   "source": [
    "## Importing:"
   ]
  },
  {
   "cell_type": "code",
   "execution_count": 1,
   "id": "8f72b1b6-4421-4f7f-9547-eaa64c173aca",
   "metadata": {},
   "outputs": [],
   "source": [
    "import numpy as np \n",
    "import pandas as pd \n",
    "import seaborn as sns \n",
    "import matplotlib.pyplot as plt \n",
    "import requests\n",
    "from bs4 import BeautifulSoup\n",
    "import os"
   ]
  },
  {
   "cell_type": "markdown",
   "id": "1902d887-f106-4529-a09a-fbec35bef027",
   "metadata": {},
   "source": [
    "## Data Cleaning: \n"
   ]
  },
  {
   "cell_type": "markdown",
   "id": "8b038efa-9ac1-4784-a6e9-0d8d178a0ef6",
   "metadata": {},
   "source": [
    "## Data Limitations:"
   ]
  },
  {
   "cell_type": "markdown",
   "id": "3b9212e3-ad9a-4ab1-9315-a10f34e034f4",
   "metadata": {},
   "source": [
    "## Exploratory Data Analysis: "
   ]
  },
  {
   "cell_type": "markdown",
   "id": "557e6170-5d9c-4271-897b-657036aedd8b",
   "metadata": {},
   "source": [
    "## Questions For Reviewers:"
   ]
  }
 ],
 "metadata": {
  "kernelspec": {
   "display_name": "Python 3 (ipykernel)",
   "language": "python",
   "name": "python3"
  },
  "language_info": {
   "codemirror_mode": {
    "name": "ipython",
    "version": 3
   },
   "file_extension": ".py",
   "mimetype": "text/x-python",
   "name": "python",
   "nbconvert_exporter": "python",
   "pygments_lexer": "ipython3",
   "version": "3.12.2"
  }
 },
 "nbformat": 4,
 "nbformat_minor": 5
}
